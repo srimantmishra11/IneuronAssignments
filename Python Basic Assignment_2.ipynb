{
 "cells": [
  {
   "cell_type": "raw",
   "id": "04b2ace3",
   "metadata": {},
   "source": [
    "q1ans) The two values of Boolean data type are True and False. We write them as uppercase T and F in First letter and rest are lower case. eg. True, False"
   ]
  },
  {
   "cell_type": "raw",
   "id": "420789e4",
   "metadata": {},
   "source": [
    "q2ans) and, or and not are three different types of boolean operator."
   ]
  },
  {
   "cell_type": "raw",
   "id": "452fe5e3",
   "metadata": {},
   "source": [
    "q3ans)\n",
    "\n",
    "and table\n",
    "--------------\n",
    "True and True is True\n",
    "True and False is False\n",
    "False and True is False\n",
    "False and False is False\n",
    "\n",
    "or table\n",
    "------------\n",
    "True or True is True\n",
    "True or False is True\n",
    "False or True is True\n",
    "False or False is False\n",
    "\n",
    "not table\n",
    "--------------\n",
    "\n",
    "not True is False\n",
    "not False is True"
   ]
  },
  {
   "cell_type": "raw",
   "id": "4d650cf0",
   "metadata": {},
   "source": [
    "q4ans) \n",
    "\n",
    "(5 > 4) and (3 == 5) is False\n",
    "\n",
    "not (5 > 4) is False\n",
    "\n",
    "(5 > 4) or (3 == 5) is True\n",
    "\n",
    "not ((5 > 4) or (3 == 5)) is False\n",
    "\n",
    "(True and True) and (True == False) is False\n",
    "\n",
    "(not False) or (not True) is True\n"
   ]
  },
  {
   "cell_type": "raw",
   "id": "10319f6a",
   "metadata": {},
   "source": [
    "q5 ans)\n",
    "\n",
    "<,>,==,!=,<= and >= are six comparison operators."
   ]
  },
  {
   "cell_type": "raw",
   "id": "e318f6a4",
   "metadata": {},
   "source": [
    "q6 ans) \n",
    "\n",
    "= operator assigns or stores a value to a variable but ==  operator is a comparison operator which compares between the values and evaluates to a boolean value"
   ]
  },
  {
   "cell_type": "raw",
   "id": "7752a6a4",
   "metadata": {},
   "source": [
    "q7 ans)\n",
    "\n",
    "Everything inside the if statement and the lines print('bacon') and print('ham') are the 3 blocks here\n",
    "if spam=10:\n",
    "    print('eggs')-- block 1\n",
    "if spam > 5:\n",
    "    print('bacon')--block 2\n",
    "else:--block 3\n",
    "    print('ham')\n",
    "    print('spam')\n",
    "    print('spam')"
   ]
  },
  {
   "cell_type": "code",
   "execution_count": 12,
   "id": "d6e7bdd7",
   "metadata": {},
   "outputs": [
    {
     "name": "stdout",
     "output_type": "stream",
     "text": [
      "enter a value: 2\n",
      "Howdy\n"
     ]
    }
   ],
   "source": [
    "#q8 ans)\n",
    "spam=input(\"enter a value: \")\n",
    "if spam=='1':\n",
    "    print(\"Hello\")\n",
    "elif spam=='2':\n",
    "    print(\"Howdy\")\n",
    "else:\n",
    "    print(\"Greetings!\")"
   ]
  },
  {
   "cell_type": "raw",
   "id": "f24170c0",
   "metadata": {},
   "source": [
    "q9 ans) I will press CTRL-C if my program stucks in an endless loop"
   ]
  },
  {
   "cell_type": "raw",
   "id": "3e47e704",
   "metadata": {},
   "source": [
    "q10 ans) Break skips the remaining execution of a complete loop and leaves the loop but Continue just skips the remaining statements inside the loop for current iteration and move the execution to the start of the loop"
   ]
  },
  {
   "cell_type": "raw",
   "id": "60967695",
   "metadata": {},
   "source": [
    "q11 ans) There is no difference between them. range(10) calles ranges from 0 to 9 same range(0,10) which tells one additional thing that it starts from 0 and range(0,10,1) tells it starts from 0 upto 9(not includes 10) by 1 on each iteration."
   ]
  },
  {
   "cell_type": "code",
   "execution_count": 14,
   "id": "f72f3081",
   "metadata": {},
   "outputs": [
    {
     "name": "stdout",
     "output_type": "stream",
     "text": [
      "1\n",
      "2\n",
      "3\n",
      "4\n",
      "5\n",
      "6\n",
      "7\n",
      "8\n",
      "9\n",
      "10\n"
     ]
    }
   ],
   "source": [
    "#q12ans) for loop\n",
    "for i in range(1,11):\n",
    "    print(i)"
   ]
  },
  {
   "cell_type": "code",
   "execution_count": 15,
   "id": "86123908",
   "metadata": {},
   "outputs": [
    {
     "name": "stdout",
     "output_type": "stream",
     "text": [
      "1\n",
      "2\n",
      "3\n",
      "4\n",
      "5\n",
      "6\n",
      "7\n",
      "8\n",
      "9\n",
      "10\n"
     ]
    }
   ],
   "source": [
    "#q12 ans) while loop\n",
    "i=1\n",
    "while i <=10:\n",
    "    print(i)\n",
    "    i = i+1"
   ]
  },
  {
   "cell_type": "raw",
   "id": "adc24fd2",
   "metadata": {},
   "source": [
    "q13 ans)It can be called as spam.bacon()"
   ]
  },
  {
   "cell_type": "code",
   "execution_count": null,
   "id": "ce7eb04a",
   "metadata": {},
   "outputs": [],
   "source": []
  }
 ],
 "metadata": {
  "kernelspec": {
   "display_name": "Python 3 (ipykernel)",
   "language": "python",
   "name": "python3"
  },
  "language_info": {
   "codemirror_mode": {
    "name": "ipython",
    "version": 3
   },
   "file_extension": ".py",
   "mimetype": "text/x-python",
   "name": "python",
   "nbconvert_exporter": "python",
   "pygments_lexer": "ipython3",
   "version": "3.9.7"
  }
 },
 "nbformat": 4,
 "nbformat_minor": 5
}
