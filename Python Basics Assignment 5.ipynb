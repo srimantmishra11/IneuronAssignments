{
 "cells": [
  {
   "cell_type": "markdown",
   "id": "e8463eb6",
   "metadata": {},
   "source": [
    "1ans) An empty dictionary looks like {}"
   ]
  },
  {
   "cell_type": "code",
   "execution_count": 1,
   "id": "a63af979",
   "metadata": {},
   "outputs": [
    {
     "data": {
      "text/plain": [
       "{'foo': 42}"
      ]
     },
     "execution_count": 1,
     "metadata": {},
     "output_type": "execute_result"
    }
   ],
   "source": [
    "#2ans) \n",
    "d = {'foo':42}\n",
    "d"
   ]
  },
  {
   "cell_type": "markdown",
   "id": "c8b365d5",
   "metadata": {},
   "source": [
    "3ans) In Dictionary items are stored in unorder manner but in List items are stored in ordered manner"
   ]
  },
  {
   "cell_type": "markdown",
   "id": "f0f9a30b",
   "metadata": {},
   "source": [
    "4ans) If I will try to access spam['foo'] if spam is {'bar:100}, I will get KeyError error"
   ]
  },
  {
   "cell_type": "markdown",
   "id": "ee61dca1",
   "metadata": {},
   "source": [
    "5ans) If a dictionary is stored in spam, then there is no difference between the expressions 'cat' in spam and spam.keys(). First expression will return if 'cat' key exists or not through True and False value while the second will dict_keys(['cat']). Both checks if the value exists in the dictionary."
   ]
  },
  {
   "cell_type": "markdown",
   "id": "3564e53b",
   "metadata": {},
   "source": [
    "6ans) 'cat' in spam checks if there is 'cat' key present in the dictionary while 'cat' in spam.values() checks if 'cat' present in dictionary values."
   ]
  },
  {
   "cell_type": "code",
   "execution_count": 4,
   "id": "898810fd",
   "metadata": {},
   "outputs": [],
   "source": [
    "#7ans) The shortcut is spam.setdefault('color','black')"
   ]
  },
  {
   "cell_type": "markdown",
   "id": "45fbd2b9",
   "metadata": {},
   "source": [
    "8ans) pprint.pprint() can be used to \"pretty print\" dictionary values"
   ]
  },
  {
   "cell_type": "code",
   "execution_count": null,
   "id": "32b866ef",
   "metadata": {},
   "outputs": [],
   "source": []
  }
 ],
 "metadata": {
  "kernelspec": {
   "display_name": "Python 3 (ipykernel)",
   "language": "python",
   "name": "python3"
  },
  "language_info": {
   "codemirror_mode": {
    "name": "ipython",
    "version": 3
   },
   "file_extension": ".py",
   "mimetype": "text/x-python",
   "name": "python",
   "nbconvert_exporter": "python",
   "pygments_lexer": "ipython3",
   "version": "3.9.7"
  }
 },
 "nbformat": 4,
 "nbformat_minor": 5
}
