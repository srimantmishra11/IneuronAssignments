{
 "cells": [
  {
   "cell_type": "markdown",
   "id": "61faa2b2",
   "metadata": {},
   "source": [
    "1. Write a program to print \"Hello Python\""
   ]
  },
  {
   "cell_type": "code",
   "execution_count": 19,
   "id": "3f4d2bbf",
   "metadata": {},
   "outputs": [
    {
     "name": "stdout",
     "output_type": "stream",
     "text": [
      "Hello Python\n"
     ]
    }
   ],
   "source": [
    "def test1():\n",
    "    print(\"Hello Python\")\n",
    "test1()"
   ]
  },
  {
   "cell_type": "markdown",
   "id": "1fe1a4b6",
   "metadata": {},
   "source": [
    "2. Write a python program to do arithmetical operations addition and division"
   ]
  },
  {
   "cell_type": "code",
   "execution_count": 20,
   "id": "08afea50",
   "metadata": {},
   "outputs": [
    {
     "name": "stdout",
     "output_type": "stream",
     "text": [
      "Enter first number34\n",
      "Enter 2nd number77\n",
      "enter + for addition or / for divison +\n"
     ]
    },
    {
     "data": {
      "text/plain": [
       "111"
      ]
     },
     "execution_count": 20,
     "metadata": {},
     "output_type": "execute_result"
    }
   ],
   "source": [
    "def test2():\n",
    "    a=int(input(\"Enter first number\"))\n",
    "    b=int(input(\"Enter 2nd number\"))\n",
    "    o = input(\"enter + for addition or / for divison \")\n",
    "    if o == '+':\n",
    "        return a+b\n",
    "    elif o == '/':\n",
    "        return a/b\n",
    "    else:\n",
    "        print(\"Invalid operator\")\n",
    "test2()"
   ]
  },
  {
   "cell_type": "markdown",
   "id": "562a103a",
   "metadata": {},
   "source": [
    "3. Write a python program to find area of a triangle."
   ]
  },
  {
   "cell_type": "code",
   "execution_count": 3,
   "id": "fd755491",
   "metadata": {},
   "outputs": [
    {
     "name": "stdout",
     "output_type": "stream",
     "text": [
      "Enter first side11\n",
      "Enter 2nd side12\n",
      "Enter 3rd side13\n"
     ]
    },
    {
     "data": {
      "text/plain": [
       "61.48170459575759"
      ]
     },
     "execution_count": 3,
     "metadata": {},
     "output_type": "execute_result"
    }
   ],
   "source": [
    "def test3():\n",
    "    a = int(input(\"Enter first side\"))\n",
    "    b = int(input(\"Enter 2nd side\"))\n",
    "    c = int(input(\"Enter 3rd side\"))\n",
    "    s = (a+b+c)/2\n",
    "    area = (s*(s-a)*(s-b)*(s-c))**0.5\n",
    "    return area\n",
    "test3()"
   ]
  },
  {
   "cell_type": "markdown",
   "id": "5ad7f60f",
   "metadata": {},
   "source": [
    "4. Write a python program to swap two variables."
   ]
  },
  {
   "cell_type": "code",
   "execution_count": 10,
   "id": "d811650f",
   "metadata": {},
   "outputs": [
    {
     "name": "stdout",
     "output_type": "stream",
     "text": [
      "Enter 1st variable56\n",
      "Enter 2nd variable-66\n",
      "after swapping\n",
      "first num =  -66  second num =  56\n"
     ]
    }
   ],
   "source": [
    "def test4():\n",
    "    a = int(input(\"Enter 1st variable\"))\n",
    "    b = int(input(\"Enter 2nd variable\"))\n",
    "    a = b-a\n",
    "    b = b-a\n",
    "    a = a+b\n",
    "    print(\"after swapping\")\n",
    "    print(\"first num = \",a,\" second num = \",b)\n",
    "test4()  "
   ]
  },
  {
   "cell_type": "markdown",
   "id": "0589a3a8",
   "metadata": {},
   "source": [
    "5. Write a python program to generate a random number"
   ]
  },
  {
   "cell_type": "code",
   "execution_count": 21,
   "id": "59033eac",
   "metadata": {},
   "outputs": [
    {
     "name": "stdout",
     "output_type": "stream",
     "text": [
      "Enter lower value 10\n",
      "Enter upper value 100\n"
     ]
    },
    {
     "data": {
      "text/plain": [
       "35"
      ]
     },
     "execution_count": 21,
     "metadata": {},
     "output_type": "execute_result"
    }
   ],
   "source": [
    "import random\n",
    "def test5():\n",
    "    a = int(input(\"Enter lower value \"))\n",
    "    b = int(input(\"Enter upper value \"))\n",
    "    c = random.randint(a,b)\n",
    "    return c\n",
    "test5()\n"
   ]
  },
  {
   "cell_type": "code",
   "execution_count": null,
   "id": "97b6b95b",
   "metadata": {},
   "outputs": [],
   "source": []
  }
 ],
 "metadata": {
  "kernelspec": {
   "display_name": "Python 3 (ipykernel)",
   "language": "python",
   "name": "python3"
  },
  "language_info": {
   "codemirror_mode": {
    "name": "ipython",
    "version": 3
   },
   "file_extension": ".py",
   "mimetype": "text/x-python",
   "name": "python",
   "nbconvert_exporter": "python",
   "pygments_lexer": "ipython3",
   "version": "3.9.7"
  }
 },
 "nbformat": 4,
 "nbformat_minor": 5
}
