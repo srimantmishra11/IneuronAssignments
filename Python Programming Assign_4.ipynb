{
 "cells": [
  {
   "cell_type": "markdown",
   "id": "70a9da58",
   "metadata": {},
   "source": [
    "1. Write a Python Program to Find the Factorial of a Number?"
   ]
  },
  {
   "cell_type": "code",
   "execution_count": 7,
   "id": "f8d89749",
   "metadata": {},
   "outputs": [
    {
     "name": "stdout",
     "output_type": "stream",
     "text": [
      "Enter a number5\n"
     ]
    },
    {
     "data": {
      "text/plain": [
       "120"
      ]
     },
     "execution_count": 7,
     "metadata": {},
     "output_type": "execute_result"
    }
   ],
   "source": [
    "def test1():\n",
    "    res=1\n",
    "    a = int(input(\"Enter a number\"))\n",
    "    while(a>1):\n",
    "        res = res*a\n",
    "        a=a-1\n",
    "    return res\n",
    "test1()"
   ]
  },
  {
   "cell_type": "markdown",
   "id": "eb062893",
   "metadata": {},
   "source": [
    "2. Write a Python Program to Display the multiplication Table?"
   ]
  },
  {
   "cell_type": "code",
   "execution_count": 9,
   "id": "276e8b2b",
   "metadata": {},
   "outputs": [
    {
     "name": "stdout",
     "output_type": "stream",
     "text": [
      "Enter a number to show multiplication table12\n",
      "12 * 1 = 12\n",
      "12 * 2 = 24\n",
      "12 * 3 = 36\n",
      "12 * 4 = 48\n",
      "12 * 5 = 60\n",
      "12 * 6 = 72\n",
      "12 * 7 = 84\n",
      "12 * 8 = 96\n",
      "12 * 9 = 108\n",
      "12 * 10 = 120\n"
     ]
    }
   ],
   "source": [
    "def test2():\n",
    "    a=int(input(\"Enter a number to show multiplication table\"))\n",
    "    for i in range(1,11):\n",
    "        print(\"{0} * {1} = {2}\".format(a,i,a*i))\n",
    "test2()"
   ]
  },
  {
   "cell_type": "markdown",
   "id": "9333ec52",
   "metadata": {},
   "source": [
    "3. Write a Python Program to Print the Fibonacci sequence?"
   ]
  },
  {
   "cell_type": "code",
   "execution_count": 8,
   "id": "ff739c19",
   "metadata": {},
   "outputs": [
    {
     "name": "stdout",
     "output_type": "stream",
     "text": [
      "Enter the range of fibonacci series100\n",
      "0\n",
      "1\n",
      "1\n",
      "2\n",
      "3\n",
      "5\n",
      "8\n",
      "13\n",
      "21\n",
      "34\n",
      "55\n",
      "89\n"
     ]
    }
   ],
   "source": [
    "def test3():\n",
    "    a=0\n",
    "    b=1\n",
    "    r=int(input(\"Enter the range of fibonacci series\"))\n",
    "    while(a<r):\n",
    "        print(a)\n",
    "        c=a+b\n",
    "        a=b\n",
    "        b=c\n",
    "        \n",
    "test3()"
   ]
  },
  {
   "cell_type": "markdown",
   "id": "a0f7df25",
   "metadata": {},
   "source": [
    "4. Write a Python Program to Check Armstrong Number?"
   ]
  },
  {
   "cell_type": "code",
   "execution_count": 16,
   "id": "bf56dece",
   "metadata": {},
   "outputs": [
    {
     "name": "stdout",
     "output_type": "stream",
     "text": [
      "Enter armstrong number153\n",
      "153 is armstrong number\n"
     ]
    }
   ],
   "source": [
    "def test4():\n",
    "    a=int(input(\"Enter armstrong number\"))\n",
    "    res =a\n",
    "    val = 0\n",
    "    while(res>0):\n",
    "        r = res%10\n",
    "        val = val+r**3\n",
    "        res=int(res/10)\n",
    "    if (val == a):\n",
    "        print(\"{0} is armstrong number\".format(a))\n",
    "    else:\n",
    "        print(\"Not an armstrong number\")\n",
    "test4()"
   ]
  },
  {
   "cell_type": "markdown",
   "id": "53ea5344",
   "metadata": {},
   "source": [
    "5. Write a Python Program to Find Armstrong Number in an Interval?"
   ]
  },
  {
   "cell_type": "code",
   "execution_count": 24,
   "id": "7606827a",
   "metadata": {},
   "outputs": [
    {
     "name": "stdout",
     "output_type": "stream",
     "text": [
      "Armstrong numbers are: \n",
      "Enter lower limit1000\n",
      "Enter upper limit10000000\n",
      "1634\n",
      "8208\n",
      "9474\n",
      "54748\n",
      "92727\n",
      "93084\n",
      "548834\n",
      "1741725\n",
      "4210818\n",
      "9800817\n",
      "9926315\n"
     ]
    }
   ],
   "source": [
    "def test5():\n",
    "    print(\"Armstrong numbers are: \")\n",
    "    lowerlimit = int(input(\"Enter lower limit\"))\n",
    "    upperlimit = int(input(\"Enter upper limit\"))\n",
    "    for i in range(lowerlimit,upperlimit+1):\n",
    "        res = i\n",
    "        size=len(str(res))\n",
    "        val=0\n",
    "        while(res>0):\n",
    "            r=res%10\n",
    "            val = val + r**size\n",
    "            res = int(res/10)\n",
    "        if(val==i):\n",
    "            print(i)\n",
    "test5()"
   ]
  },
  {
   "cell_type": "markdown",
   "id": "b596f3a4",
   "metadata": {},
   "source": [
    "6. Write a Python Program to Find the Sum of Natural Numbers?"
   ]
  },
  {
   "cell_type": "code",
   "execution_count": 29,
   "id": "bd8c3403",
   "metadata": {},
   "outputs": [
    {
     "name": "stdout",
     "output_type": "stream",
     "text": [
      "Enter a natural number to find its sum10\n",
      "sum of natural number till 10 is 55\n"
     ]
    }
   ],
   "source": [
    "def test6():\n",
    "    a = int(input(\"Enter a natural number to find its sum\"))\n",
    "    res = 0\n",
    "    for i in range(1,a+1):\n",
    "        res = res+i\n",
    "    print(\"sum of natural number till {} is {}\".format(a,res))\n",
    "test6()"
   ]
  },
  {
   "cell_type": "code",
   "execution_count": null,
   "id": "ae0f8106",
   "metadata": {},
   "outputs": [],
   "source": []
  },
  {
   "cell_type": "code",
   "execution_count": null,
   "id": "6d071f5a",
   "metadata": {},
   "outputs": [],
   "source": []
  },
  {
   "cell_type": "code",
   "execution_count": null,
   "id": "e4bc50e1",
   "metadata": {},
   "outputs": [],
   "source": []
  }
 ],
 "metadata": {
  "kernelspec": {
   "display_name": "Python 3 (ipykernel)",
   "language": "python",
   "name": "python3"
  },
  "language_info": {
   "codemirror_mode": {
    "name": "ipython",
    "version": 3
   },
   "file_extension": ".py",
   "mimetype": "text/x-python",
   "name": "python",
   "nbconvert_exporter": "python",
   "pygments_lexer": "ipython3",
   "version": "3.9.7"
  }
 },
 "nbformat": 4,
 "nbformat_minor": 5
}
