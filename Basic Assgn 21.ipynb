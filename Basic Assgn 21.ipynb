{
 "cells": [
  {
   "cell_type": "markdown",
   "id": "c38c89cd",
   "metadata": {},
   "source": [
    "Q1. Add the current date to the text file today.txt as a string.\n",
    "\n"
   ]
  },
  {
   "cell_type": "code",
   "execution_count": 1,
   "id": "c22d339b",
   "metadata": {},
   "outputs": [
    {
     "name": "stdout",
     "output_type": "stream",
     "text": [
      "2022-05-02\n"
     ]
    }
   ],
   "source": [
    "from datetime import date\n",
    "\n",
    "with open('today.txt', 'w') as txt:\n",
    "    txt.write(date.today().isoformat())\n",
    "print(date.today().isoformat())"
   ]
  },
  {
   "cell_type": "markdown",
   "id": "2bcae4e0",
   "metadata": {},
   "source": [
    "q2. Read the text file today.txt into the string today_string"
   ]
  },
  {
   "cell_type": "code",
   "execution_count": 3,
   "id": "2c949d6a",
   "metadata": {},
   "outputs": [
    {
     "name": "stdout",
     "output_type": "stream",
     "text": [
      "Reading text: 2022-05-02\n"
     ]
    }
   ],
   "source": [
    "today_string = \"\"\n",
    "with open('today.txt', 'r') as txt:\n",
    "    today_string = txt.readline()\n",
    "print(f\"Reading text: {today_string}\")"
   ]
  },
  {
   "cell_type": "markdown",
   "id": "bcf4da02",
   "metadata": {},
   "source": [
    "q3. Parse the date from today_string."
   ]
  },
  {
   "cell_type": "code",
   "execution_count": 4,
   "id": "a54de46d",
   "metadata": {},
   "outputs": [
    {
     "name": "stdout",
     "output_type": "stream",
     "text": [
      "2022-05-02 00:00:00\n"
     ]
    }
   ],
   "source": [
    "from datetime import datetime\n",
    "print(datetime.strptime(today_string, '%Y-%m-%d'))"
   ]
  },
  {
   "cell_type": "markdown",
   "id": "c6fe9c6d",
   "metadata": {},
   "source": [
    "q4. List the files in your current directory"
   ]
  },
  {
   "cell_type": "code",
   "execution_count": 5,
   "id": "e4437480",
   "metadata": {},
   "outputs": [
    {
     "data": {
      "text/plain": [
       "['.astropy',\n",
       " '.bash_history',\n",
       " '.conda',\n",
       " '.condarc',\n",
       " '.continuum',\n",
       " '.cufflinks',\n",
       " '.dotnet',\n",
       " '.gitconfig',\n",
       " '.ipynb_checkpoints',\n",
       " '.ipython',\n",
       " '.jupyter',\n",
       " '.lesshst',\n",
       " '.matplotlib',\n",
       " '.python_history',\n",
       " '.ssh',\n",
       " '.templateengine',\n",
       " '15thJan Live class.ipynb',\n",
       " '20questions23dec.ipynb',\n",
       " '20questions23dec.zip',\n",
       " '22Jan Live class.ipynb',\n",
       " '23jan Live class.ipynb',\n",
       " '26FebLive Pandas.ipynb',\n",
       " '3D Objects',\n",
       " '9JAN live class.ipynb',\n",
       " 'Abstraction & Inheritance.ipynb',\n",
       " 'addition.py',\n",
       " 'addresses.csv',\n",
       " 'Admission_Prediction.csv',\n",
       " 'anaconda.txt',\n",
       " 'anaconda3',\n",
       " 'AppData',\n",
       " 'Application Data',\n",
       " 'Assignment_1.ipynb',\n",
       " 'AssignXYZ.ipynb',\n",
       " 'bank.csv',\n",
       " 'Basic Assgn 16.ipynb',\n",
       " 'Basic Assgn 17.ipynb',\n",
       " 'Basic Assgn 18.ipynb',\n",
       " 'Basic Assgn 19.ipynb',\n",
       " 'Basic Assgn 22.ipynb',\n",
       " 'Basic Assgn 23.ipynb',\n",
       " 'Basic Assgn 24.ipynb',\n",
       " 'Carbon Nanotubes Project.ipynb',\n",
       " 'champ.jpg',\n",
       " 'changethemes.ipynb',\n",
       " 'Chloropleth Maps.ipynb',\n",
       " 'clas.txt',\n",
       " 'class',\n",
       " 'class and object.ipynb',\n",
       " 'class.txt',\n",
       " 'colourTheme.ipynb',\n",
       " 'Contacts',\n",
       " 'contacts.csv',\n",
       " 'Cookies',\n",
       " 'cricket.csv',\n",
       " 'Database1.ipynb',\n",
       " 'Database_1.ipynb',\n",
       " 'DEBUG.ipynb',\n",
       " 'Desktop',\n",
       " 'Documents',\n",
       " 'Downloads',\n",
       " 'Exception Handling.ipynb',\n",
       " 'Favorites',\n",
       " 'File handling.ipynb',\n",
       " 'four.doc',\n",
       " 'fourty.docx',\n",
       " 'freasher .pdf',\n",
       " 'functionsss.ipynb',\n",
       " 'Geekyshows whole OOPS concepts.ipynb',\n",
       " 'glass.data',\n",
       " 'Graph Live class.ipynb',\n",
       " 'holiday_schedules.csv',\n",
       " 'Hypothesis_Testing.ipynb',\n",
       " 'image.png',\n",
       " 'Indian_state_details.csv',\n",
       " 'ineuron.db',\n",
       " 'ineuronpng.png',\n",
       " 'jobdb.db',\n",
       " 'json_res.csv',\n",
       " 'linear_reg.sav',\n",
       " 'Links',\n",
       " 'Live 13feb mongodb.ipynb',\n",
       " 'Live class 21.12.ipynb',\n",
       " 'Live Numpy 1.ipynb',\n",
       " 'Live Pandas 2.ipynb',\n",
       " 'Live Pandas.ipynb',\n",
       " 'Live Stat2.ipynb',\n",
       " 'Live23.12.ipynb',\n",
       " 'live23dec.ipynb',\n",
       " 'Live29 and 30 class.ipynb',\n",
       " 'liveclass18.12.ipynb',\n",
       " 'Liveclass19.12forloop.ipynb',\n",
       " 'liveclass20.12.ipynb',\n",
       " 'LiveSQLLITE 20.02 map,reduce,filter,zip.ipynb',\n",
       " 'Local Settings',\n",
       " 'locations.csv',\n",
       " 'logging',\n",
       " 'Logging Debugging again.ipynb',\n",
       " 'logging2',\n",
       " 'LUSID Excel - Business Agility - Making Simple Changes Quickly & Easily.xlsx',\n",
       " 'LUSID Excel - Maintain a product in multiple currencies and share classes.xlsx',\n",
       " 'LUSID Excel - Manage Orders.xlsx',\n",
       " 'LUSID Excel - Manage your investment strategies.xlsx',\n",
       " 'LUSID Excel - Setting up your IBOR.xlsx',\n",
       " 'LUSID Excel - Setting up your market data.xlsx',\n",
       " 'mail_addresses.csv',\n",
       " 'Marvel',\n",
       " 'ML-TV vs Sales Model.ipynb',\n",
       " 'Module and exception.ipynb',\n",
       " 'Music',\n",
       " 'My Documents',\n",
       " 'mydict.py',\n",
       " 'Mysql &  Mongodb practise April.ipynb',\n",
       " 'my_module',\n",
       " 'my_module.py',\n",
       " 'my_module.py.txt',\n",
       " 'NBA.csv',\n",
       " 'NetHood',\n",
       " 'NTUSER.DAT',\n",
       " 'ntuser.dat.LOG1',\n",
       " 'ntuser.dat.LOG2',\n",
       " 'NTUSER.DAT{53b39e88-18c4-11ea-a811-000d3aa4692b}.TM.blf',\n",
       " 'NTUSER.DAT{53b39e88-18c4-11ea-a811-000d3aa4692b}.TMContainer00000000000000000001.regtrans-ms',\n",
       " 'NTUSER.DAT{53b39e88-18c4-11ea-a811-000d3aa4692b}.TMContainer00000000000000000002.regtrans-ms',\n",
       " 'ntuser.ini',\n",
       " 'OneDrive',\n",
       " 'organizations.csv',\n",
       " 'pdf merge.ipynb',\n",
       " 'person.db',\n",
       " 'phones.csv',\n",
       " 'Plotly-map-task.ipynb',\n",
       " 'Postman',\n",
       " 'Practice Lambda,map,reduce,filter.ipynb',\n",
       " 'Practice String Manipulation.ipynb',\n",
       " 'PrintHood',\n",
       " 'programs.csv',\n",
       " 'Project Modular Day1.ipynb',\n",
       " 'Python basic assgn 11.ipynb',\n",
       " 'Python Basic Assgn 12.ipynb',\n",
       " 'Python Basic Assgn 14.ipynb',\n",
       " 'Python Basic Assgn 18.ipynb',\n",
       " 'Python basic assgn 7.ipynb',\n",
       " 'Python Basic Assigment 25.ipynb',\n",
       " 'Python Basic Assigment 3.ipynb',\n",
       " 'Python Basic Assign 15.ipynb',\n",
       " 'Python Basic Assignment 10.ipynb',\n",
       " 'Python Basic Assignment 13.ipynb',\n",
       " 'Python Basic Assignment 6.ipynb',\n",
       " 'Python Basic Assignment 8.ipynb',\n",
       " 'Python Basic Assignment 9.ipynb',\n",
       " 'Python Basic Assignment_2.ipynb',\n",
       " 'Python Basics Assignment 4.ipynb',\n",
       " 'Python Basics Assignment 5.ipynb',\n",
       " 'Python Basics16.12.ipynb',\n",
       " 'Python Programming Basic Assgn 8.ipynb',\n",
       " 'README.md',\n",
       " 'Recent',\n",
       " 'Record NUMPY.ipynb',\n",
       " 'REGEX.ipynb',\n",
       " 'regular_schedules.csv',\n",
       " 'resume selection task.ipynb',\n",
       " 'Review Flask.ipynb',\n",
       " 'RR',\n",
       " 'sample_test.csv',\n",
       " 'Saved Games',\n",
       " 'ScStore',\n",
       " 'seaborn-data',\n",
       " 'Searches',\n",
       " 'SendTo',\n",
       " 'services.csv',\n",
       " 'source',\n",
       " 'sql basic 3 pm class.ipynb',\n",
       " 'SS',\n",
       " 'ss2.png',\n",
       " 'Start Menu',\n",
       " 'states_india.geojson',\n",
       " 'Task MongoDB.ipynb',\n",
       " 'taxonomy.csv',\n",
       " 'Templates',\n",
       " 'Test',\n",
       " 'test.html',\n",
       " 'test.py',\n",
       " 'test.txt',\n",
       " 'test1.txt',\n",
       " 'test2.txt',\n",
       " 'test5.py',\n",
       " 'test5.txt',\n",
       " 'test6.py',\n",
       " 'Test700.log',\n",
       " 'today',\n",
       " 'today.txt',\n",
       " 'Tracing',\n",
       " 'Untitled Folder',\n",
       " 'Untitled.ipynb',\n",
       " 'Untitled1.ipynb',\n",
       " 'Untitled10.ipynb',\n",
       " 'Untitled11.ipynb',\n",
       " 'Untitled12.ipynb',\n",
       " 'Untitled13.ipynb',\n",
       " 'Untitled2.ipynb',\n",
       " 'Untitled3.ipynb',\n",
       " 'Untitled4.ipynb',\n",
       " 'Untitled5.ipynb',\n",
       " 'Untitled6.ipynb',\n",
       " 'Untitled7.ipynb',\n",
       " 'Untitled8.ipynb',\n",
       " 'Untitled9.ipynb',\n",
       " 'up_res.csv',\n",
       " 'Videos',\n",
       " 'While&Forloop 17.12.ipynb',\n",
       " 'xtest',\n",
       " 'xtest1',\n",
       " 'zoo.ipynb',\n",
       " 'zoo.py',\n",
       " '_netrc',\n",
       " '__pycache__']"
      ]
     },
     "execution_count": 5,
     "metadata": {},
     "output_type": "execute_result"
    }
   ],
   "source": [
    "import os\n",
    "os.listdir('.')"
   ]
  },
  {
   "cell_type": "markdown",
   "id": "19d8d83a",
   "metadata": {},
   "source": [
    "q5. Create a list of all of the files in your parent directory (minimum five files should be available)."
   ]
  },
  {
   "cell_type": "code",
   "execution_count": 6,
   "id": "7b999574",
   "metadata": {},
   "outputs": [
    {
     "name": "stdout",
     "output_type": "stream",
     "text": [
      "<class 'list'>\n",
      "['All Users', 'Default', 'Default User', 'desktop.ini', 'Public', 'USER']\n",
      "Number of files: 6\n"
     ]
    }
   ],
   "source": [
    "lst_files = os.listdir('..')\n",
    "print(type(lst_files))\n",
    "print(lst_files)\n",
    "print(f\"Number of files: {len(lst_files)}\")"
   ]
  },
  {
   "cell_type": "markdown",
   "id": "f6e979e6",
   "metadata": {},
   "source": [
    "q6. Use multiprocessing to create three separate processes. Make each one wait a random number of seconds between one and five, print the current time, and then exit."
   ]
  },
  {
   "cell_type": "code",
   "execution_count": 7,
   "id": "b58dd3fa",
   "metadata": {},
   "outputs": [
    {
     "name": "stdout",
     "output_type": "stream",
     "text": [
      "starting processes\n",
      "Process 0 will sleep for 7\n",
      "starting processes\n",
      "Process 1 will sleep for 6\n",
      "starting processes\n",
      "Process 2 will sleep for 6\n"
     ]
    }
   ],
   "source": [
    "import multiprocessing\n",
    "from datetime import datetime \n",
    "from time import sleep \n",
    "import random\n",
    "\n",
    "def now_sleep(seconds): \n",
    "    print('wait', seconds, 'seconds, time is', datetime.utcnow())\n",
    "    sleep(seconds) \n",
    "    print(\"Finished Process!\")\n",
    "\n",
    "if __name__ == '__main__':\n",
    "    for n in range(3): \n",
    "        print(\"starting processes\")\n",
    "        seconds = random.randint(1, 10) \n",
    "        print(f\"Process {n} will sleep for {seconds}\")\n",
    "        proc = multiprocessing.Process(target=now_sleep, args=(seconds,)) \n",
    "        proc.start()\n",
    "        \n",
    "# Note: this file is saved as multiprocessing.py in local file system"
   ]
  },
  {
   "cell_type": "markdown",
   "id": "bc515c3f",
   "metadata": {},
   "source": [
    "q7. Create a date object of your day of birth."
   ]
  },
  {
   "cell_type": "code",
   "execution_count": 8,
   "id": "2a11aa98",
   "metadata": {},
   "outputs": [
    {
     "name": "stdout",
     "output_type": "stream",
     "text": [
      "1998-06-22\n"
     ]
    }
   ],
   "source": [
    "my_birthday = date(1998, 6, 22)\n",
    "print(my_birthday)\n"
   ]
  },
  {
   "cell_type": "markdown",
   "id": "5587ef75",
   "metadata": {},
   "source": [
    "q8. What day of the week was your day of birth?"
   ]
  },
  {
   "cell_type": "code",
   "execution_count": 9,
   "id": "d8d9b870",
   "metadata": {},
   "outputs": [
    {
     "name": "stdout",
     "output_type": "stream",
     "text": [
      "My birthday was on 1th day of the week\n"
     ]
    }
   ],
   "source": [
    "print(f\"My birthday was on {my_birthday.isoweekday()}th day of the week\")"
   ]
  },
  {
   "cell_type": "markdown",
   "id": "bf854341",
   "metadata": {},
   "source": [
    "q9. When will you be (or when were you) 10,000 days old?"
   ]
  },
  {
   "cell_type": "code",
   "execution_count": 10,
   "id": "603bf6af",
   "metadata": {},
   "outputs": [
    {
     "name": "stdout",
     "output_type": "stream",
     "text": [
      "2025-11-07\n"
     ]
    }
   ],
   "source": [
    "from datetime import timedelta\n",
    "\n",
    "thousand_days = my_birthday + timedelta(days=10000)\n",
    "print(thousand_days)"
   ]
  },
  {
   "cell_type": "code",
   "execution_count": null,
   "id": "58431b8a",
   "metadata": {},
   "outputs": [],
   "source": []
  }
 ],
 "metadata": {
  "kernelspec": {
   "display_name": "Python 3 (ipykernel)",
   "language": "python",
   "name": "python3"
  },
  "language_info": {
   "codemirror_mode": {
    "name": "ipython",
    "version": 3
   },
   "file_extension": ".py",
   "mimetype": "text/x-python",
   "name": "python",
   "nbconvert_exporter": "python",
   "pygments_lexer": "ipython3",
   "version": "3.9.7"
  }
 },
 "nbformat": 4,
 "nbformat_minor": 5
}
