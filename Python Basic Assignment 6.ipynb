{
 "cells": [
  {
   "cell_type": "markdown",
   "id": "b425fa2d",
   "metadata": {},
   "source": [
    "1ns) To insert the character which are illegal in string, we use escape characters. For eg. '/', \\n. We use it followed by the character we want to insert."
   ]
  },
  {
   "cell_type": "markdown",
   "id": "72e534b0",
   "metadata": {},
   "source": [
    "2ans) n stands for new line and t stands for Tab."
   ]
  },
  {
   "cell_type": "markdown",
   "id": "aec0b616",
   "metadata": {},
   "source": [
    "3ans) // escape character will represent backslash character and To use backslash character in string we used it followed by the character we want to insert."
   ]
  },
  {
   "cell_type": "markdown",
   "id": "4561a741",
   "metadata": {},
   "source": [
    "4ans) In \"Howl's moving castle\" it is fine because we have used double quotes to mark the beginning and end of the string."
   ]
  },
  {
   "cell_type": "markdown",
   "id": "df938fd7",
   "metadata": {},
   "source": [
    "5ans) If I don't want to use \\n in my string, I can use multiple strings to allow to use newlines in strings. "
   ]
  },
  {
   "cell_type": "markdown",
   "id": "af1d8443",
   "metadata": {},
   "source": [
    "6ans) The expressions will evaluate as following:\n",
    "    \n",
    "    'e'\n",
    "    \n",
    "    'Hello'\n",
    "    \n",
    "    'Hello'\n",
    "    \n",
    "    'lo world!'"
   ]
  },
  {
   "cell_type": "markdown",
   "id": "0f6e7818",
   "metadata": {},
   "source": [
    "7ans) The expressions evaluate to as following:\n",
    "    \n",
    "    'HELLO'\n",
    "    \n",
    "    True\n",
    "    \n",
    "    'hello'"
   ]
  },
  {
   "cell_type": "markdown",
   "id": "9179c2ea",
   "metadata": {},
   "source": [
    "8ans) Expression will evaluate like this:\n",
    "    \n",
    "    ['Remember','remember','the','fifth','of','November']\n",
    "    \n",
    "    There-can-be-only-one"
   ]
  },
  {
   "cell_type": "markdown",
   "id": "b0eaf351",
   "metadata": {},
   "source": [
    "9ans) rjust() ljust() and centre() methods"
   ]
  },
  {
   "cell_type": "markdown",
   "id": "cbb7cad5",
   "metadata": {},
   "source": [
    "10ans) The lstrip() and rstrip() methods remove whitespace from the left and right ends of a string"
   ]
  },
  {
   "cell_type": "code",
   "execution_count": null,
   "id": "382b7e97",
   "metadata": {},
   "outputs": [],
   "source": []
  }
 ],
 "metadata": {
  "kernelspec": {
   "display_name": "Python 3 (ipykernel)",
   "language": "python",
   "name": "python3"
  },
  "language_info": {
   "codemirror_mode": {
    "name": "ipython",
    "version": 3
   },
   "file_extension": ".py",
   "mimetype": "text/x-python",
   "name": "python",
   "nbconvert_exporter": "python",
   "pygments_lexer": "ipython3",
   "version": "3.9.7"
  }
 },
 "nbformat": 4,
 "nbformat_minor": 5
}
