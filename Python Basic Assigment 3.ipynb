{
 "cells": [
  {
   "cell_type": "markdown",
   "id": "679940da",
   "metadata": {},
   "source": [
    "1ans) Functions help us to avoid rewritting of same logic or code again and again in a program. We can track a large program easily when it is divided into multiple function. So reusability, easy to read and update are the main advantages of using Functions. "
   ]
  },
  {
   "cell_type": "markdown",
   "id": "2a858021",
   "metadata": {},
   "source": [
    "2ans) When a function called then only the code in a function runs and executes"
   ]
  },
  {
   "cell_type": "markdown",
   "id": "a1ba5057",
   "metadata": {},
   "source": [
    "3ans) def statement created or defines a function."
   ]
  },
  {
   "cell_type": "markdown",
   "id": "9bb397ca",
   "metadata": {},
   "source": [
    "4ans) A function itself is a piece of code which is present in the def clause and function call is the process of execute that code which evaluates function's return value"
   ]
  },
  {
   "cell_type": "markdown",
   "id": "218eed16",
   "metadata": {},
   "source": [
    "5ans) There is only one global scope and one local scope in a python program."
   ]
  },
  {
   "cell_type": "markdown",
   "id": "3f63e426",
   "metadata": {},
   "source": [
    "6ans) When the function call returns the variables in a local scope is destroyed and all variable in it are forgotten."
   ]
  },
  {
   "cell_type": "markdown",
   "id": "3b5877e2",
   "metadata": {},
   "source": [
    "7ans) As the name suggests, a return value is something which is returned by a function when it completes execution. Yes, it is possible to have a return value in an expression."
   ]
  },
  {
   "cell_type": "markdown",
   "id": "e269cc21",
   "metadata": {},
   "source": [
    "8ans)If a function doesnot have any return statement, Then return value of a call to the function is None."
   ]
  },
  {
   "cell_type": "markdown",
   "id": "fd79e6d9",
   "metadata": {},
   "source": [
    "9ans) To make a function variable refer to the global variable, we use global keyword."
   ]
  },
  {
   "cell_type": "markdown",
   "id": "efe254f7",
   "metadata": {},
   "source": [
    "10ans) In Python, None keyword is an object, and it is a data type of the class NoneType ."
   ]
  },
  {
   "cell_type": "markdown",
   "id": "e278c638",
   "metadata": {},
   "source": [
    "11ans) It imports a python module called 'areallyourpetsnamederic'. But it's not a real python module."
   ]
  },
  {
   "cell_type": "markdown",
   "id": "fa28396c",
   "metadata": {},
   "source": [
    "12ans) We can call the function by spam.bacon() after importing spam module."
   ]
  },
  {
   "cell_type": "markdown",
   "id": "6102ef50",
   "metadata": {},
   "source": [
    "13ans) We can use try and except clause to prevent a programme from crashing if it encounters an error."
   ]
  },
  {
   "cell_type": "markdown",
   "id": "c75591f9",
   "metadata": {},
   "source": [
    "14ans) In try clause we put a piece of code which may encounter a runtime error and in except clause we put a piece of code which will execute if any error occurs in try clause. The main purpose is error handling."
   ]
  },
  {
   "cell_type": "code",
   "execution_count": null,
   "id": "41e6f4f0",
   "metadata": {},
   "outputs": [],
   "source": []
  }
 ],
 "metadata": {
  "kernelspec": {
   "display_name": "Python 3 (ipykernel)",
   "language": "python",
   "name": "python3"
  },
  "language_info": {
   "codemirror_mode": {
    "name": "ipython",
    "version": 3
   },
   "file_extension": ".py",
   "mimetype": "text/x-python",
   "name": "python",
   "nbconvert_exporter": "python",
   "pygments_lexer": "ipython3",
   "version": "3.9.7"
  }
 },
 "nbformat": 4,
 "nbformat_minor": 5
}
