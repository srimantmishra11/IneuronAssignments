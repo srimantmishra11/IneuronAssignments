{
 "cells": [
  {
   "cell_type": "markdown",
   "id": "a8b211ce",
   "metadata": {},
   "source": [
    "1ans) [] is an empty list which contains no items."
   ]
  },
  {
   "cell_type": "markdown",
   "id": "17649423",
   "metadata": {},
   "source": [
    "2ans) Lets say list of values in spam variable is [2,4,6,8,10]. I would assign the value 'hello' as the 3rd value like the below way:"
   ]
  },
  {
   "cell_type": "code",
   "execution_count": 2,
   "id": "1432cfec",
   "metadata": {},
   "outputs": [
    {
     "data": {
      "text/plain": [
       "[2, 4, 'hello', 8, 10]"
      ]
     },
     "execution_count": 2,
     "metadata": {},
     "output_type": "execute_result"
    }
   ],
   "source": [
    "spam=[2,4,6,8,10]\n",
    "spam[2]='hello'\n",
    "spam"
   ]
  },
  {
   "cell_type": "code",
   "execution_count": 6,
   "id": "7c4d2a18",
   "metadata": {},
   "outputs": [
    {
     "data": {
      "text/plain": [
       "'d'"
      ]
     },
     "execution_count": 6,
     "metadata": {},
     "output_type": "execute_result"
    }
   ],
   "source": [
    "#3ans) '3'*2 will return 33 and int(int('3'*2)/11) will return 3. Hence spam[3] will return the value'd'\n",
    "spam=['a','b','c','d']\n",
    "spam[int(int('3'*2)/11)]"
   ]
  },
  {
   "cell_type": "code",
   "execution_count": 4,
   "id": "fb776afd",
   "metadata": {},
   "outputs": [
    {
     "data": {
      "text/plain": [
       "'d'"
      ]
     },
     "execution_count": 4,
     "metadata": {},
     "output_type": "execute_result"
    }
   ],
   "source": [
    "#4ans) as negative indexed count from the end so this will return 'd'.\n",
    "spam[-1]"
   ]
  },
  {
   "cell_type": "code",
   "execution_count": 5,
   "id": "7409c694",
   "metadata": {},
   "outputs": [
    {
     "data": {
      "text/plain": [
       "['a', 'b']"
      ]
     },
     "execution_count": 5,
     "metadata": {},
     "output_type": "execute_result"
    }
   ],
   "source": [
    "#5ans) This will count first and second items only.\n",
    "spam[:2]"
   ]
  },
  {
   "cell_type": "markdown",
   "id": "d3c81346",
   "metadata": {},
   "source": [
    "bacon as the list [3.14,'cat',11,'cat',True] for next 3 answers "
   ]
  },
  {
   "cell_type": "code",
   "execution_count": 7,
   "id": "48c70e39",
   "metadata": {},
   "outputs": [
    {
     "data": {
      "text/plain": [
       "1"
      ]
     },
     "execution_count": 7,
     "metadata": {},
     "output_type": "execute_result"
    }
   ],
   "source": [
    "#6ans) value of bacon.index('cat') will be 1\n",
    "bacon=[3.14,'cat',11,'cat',True]\n",
    "bacon.index('cat')"
   ]
  },
  {
   "cell_type": "code",
   "execution_count": 9,
   "id": "92d73a10",
   "metadata": {},
   "outputs": [
    {
     "data": {
      "text/plain": [
       "[3.14, 'cat', 11, 'cat', True, 99, 99]"
      ]
     },
     "execution_count": 9,
     "metadata": {},
     "output_type": "execute_result"
    }
   ],
   "source": [
    "#7ans) bacon.append(99) will add 99 at the end of the list\n",
    "bacon.append(99)\n",
    "bacon"
   ]
  },
  {
   "cell_type": "code",
   "execution_count": 11,
   "id": "76a4c600",
   "metadata": {},
   "outputs": [
    {
     "data": {
      "text/plain": [
       "[3.14, 11, True, 99, 99]"
      ]
     },
     "execution_count": 11,
     "metadata": {},
     "output_type": "execute_result"
    }
   ],
   "source": [
    "#8ans) bacon.remove('cat') will track 'cat' from the start and remove which will fall in beginning. Hence here first 'cat' will be removed\n",
    "bacon.remove('cat')\n",
    "bacon"
   ]
  },
  {
   "cell_type": "markdown",
   "id": "c47484b5",
   "metadata": {},
   "source": [
    "9ans) List concatination operator will concatinate(+) or add the value will the list but List replication will multiply(*) the list by given multiple times. "
   ]
  },
  {
   "cell_type": "markdown",
   "id": "ded7a230",
   "metadata": {},
   "source": [
    "10ans)append() will add values at the end of the list but using insert() we can add anywhere in the list we want. "
   ]
  },
  {
   "cell_type": "markdown",
   "id": "a0f172e6",
   "metadata": {},
   "source": [
    "11 ans) We can remove  items from the list by using remove() and del statement."
   ]
  },
  {
   "cell_type": "markdown",
   "id": "bf3d3ae9",
   "metadata": {},
   "source": [
    "12 ans) List and strings for are identical because both are iterable objects. Both are having indexes. We can use both in for loops and both can be passed in len()."
   ]
  },
  {
   "cell_type": "markdown",
   "id": "e1254052",
   "metadata": {},
   "source": [
    "13ans) 1. Tuples are immutable(can't be changed) but Lists are mutable(can be added,removed or changed).\n",
    "2. Tuples are enclosed by parentesis () but Lists are enclosed by square brackets [].\n",
    "3. Tuples consumes less memory than Lists."
   ]
  },
  {
   "cell_type": "code",
   "execution_count": 3,
   "id": "e928b5ec",
   "metadata": {},
   "outputs": [
    {
     "data": {
      "text/plain": [
       "(42,)"
      ]
     },
     "execution_count": 3,
     "metadata": {},
     "output_type": "execute_result"
    }
   ],
   "source": [
    "#14ans) This is how, we will store 42 in a tuple\n",
    "t=(42,)\n",
    "t"
   ]
  },
  {
   "cell_type": "markdown",
   "id": "c30843d3",
   "metadata": {},
   "source": [
    "15ans) To get a list value's tuple form we use tuple() and to get tuple value's list form er use list()"
   ]
  },
  {
   "cell_type": "markdown",
   "id": "27fc2b85",
   "metadata": {},
   "source": [
    "16ans) Varibles that contain lists value don't actually contain lists directly, then contain references to list values."
   ]
  },
  {
   "cell_type": "markdown",
   "id": "7c08f87b",
   "metadata": {},
   "source": [
    "17ans) The copy.copy() will do a shallow copy of a list, while the copy.deepcopy() will do a deep copy of a list. That is, only copy.deecopy() will duplicate any list inside the list."
   ]
  },
  {
   "cell_type": "code",
   "execution_count": null,
   "id": "d357fd06",
   "metadata": {},
   "outputs": [],
   "source": []
  }
 ],
 "metadata": {
  "kernelspec": {
   "display_name": "Python 3 (ipykernel)",
   "language": "python",
   "name": "python3"
  },
  "language_info": {
   "codemirror_mode": {
    "name": "ipython",
    "version": 3
   },
   "file_extension": ".py",
   "mimetype": "text/x-python",
   "name": "python",
   "nbconvert_exporter": "python",
   "pygments_lexer": "ipython3",
   "version": "3.9.7"
  }
 },
 "nbformat": 4,
 "nbformat_minor": 5
}
