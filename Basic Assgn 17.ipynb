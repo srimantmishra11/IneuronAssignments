{
 "cells": [
  {
   "cell_type": "markdown",
   "id": "5bd8822f",
   "metadata": {},
   "source": [
    "Q1. Assign the value 7 to the variable guess_me. Then, write the conditional tests (if, else, and elif) to print the string 'too low' if guess_me is less than 7, 'too high' if greater than 7, and 'just right' if equal to 7.\n",
    "\n",
    "Ans:"
   ]
  },
  {
   "cell_type": "code",
   "execution_count": 1,
   "id": "d8aef6b8",
   "metadata": {},
   "outputs": [
    {
     "name": "stdout",
     "output_type": "stream",
     "text": [
      "Just Right\n"
     ]
    }
   ],
   "source": [
    "guess_me = 7\n",
    "if guess_me == 7 :\n",
    "    print('Just Right')\n",
    "elif guess_me > 7 :\n",
    "    print(\"Too High\")\n",
    "else:\n",
    "    print('Too Low')"
   ]
  },
  {
   "cell_type": "markdown",
   "id": "4db0c670",
   "metadata": {},
   "source": [
    "Q2. Assign the value 7 to the variable guess_me and the value 1 to the variable start. Write a while loop that compares start with guess_me. Print too low if start is less than guess me. If start equals guess_me, print 'found it!' and exit the loop. If start is greater than guess_me, print 'oops' and exit the loop. Increment start at the end of the loop.\n",
    "\n",
    "\n",
    "Ans:"
   ]
  },
  {
   "cell_type": "code",
   "execution_count": 2,
   "id": "423a25ad",
   "metadata": {},
   "outputs": [
    {
     "name": "stdout",
     "output_type": "stream",
     "text": [
      "Too Low\n",
      "Too Low\n",
      "Too Low\n",
      "Too Low\n",
      "Too Low\n",
      "Too Low\n",
      "Found it!\n"
     ]
    }
   ],
   "source": [
    "guess_me = 7\n",
    "start = 1\n",
    "while(True):\n",
    "    if start < guess_me:\n",
    "        print('Too Low')\n",
    "    elif start == guess_me:\n",
    "        print(\"Found it!\")\n",
    "        break\n",
    "    elif start > guess_me:\n",
    "        print(\"Oops\")\n",
    "        break\n",
    "    start +=1   "
   ]
  },
  {
   "cell_type": "markdown",
   "id": "9e0e32e6",
   "metadata": {},
   "source": [
    "Q3. Print the following values of the list [3, 2, 1, 0] using a for loop.\n",
    "\n",
    "Ans:"
   ]
  },
  {
   "cell_type": "code",
   "execution_count": 3,
   "id": "5075653c",
   "metadata": {},
   "outputs": [
    {
     "name": "stdout",
     "output_type": "stream",
     "text": [
      "3\n",
      "2\n",
      "1\n",
      "0\n"
     ]
    }
   ],
   "source": [
    "list = [3,2,1,0]\n",
    "for i in list:\n",
    "    print(i)"
   ]
  },
  {
   "cell_type": "markdown",
   "id": "8d9e6b7d",
   "metadata": {},
   "source": [
    "Q4. Use a list comprehension to make a list of the even numbers in range(10).\n",
    "\n",
    "Ans:"
   ]
  },
  {
   "cell_type": "code",
   "execution_count": 4,
   "id": "4aa4632e",
   "metadata": {},
   "outputs": [
    {
     "data": {
      "text/plain": [
       "[0, 2, 4, 6, 8]"
      ]
     },
     "execution_count": 4,
     "metadata": {},
     "output_type": "execute_result"
    }
   ],
   "source": [
    "even = [i for i in range(10) if i%2==0]\n",
    "even"
   ]
  },
  {
   "cell_type": "markdown",
   "id": "4781e6de",
   "metadata": {},
   "source": [
    "Q5. Use a dictionary comprehension to create the dictionary squares. Use range(10) to return the keys, and use the square of each key as its value.\n",
    "\n",
    "Ans:"
   ]
  },
  {
   "cell_type": "code",
   "execution_count": 5,
   "id": "44998d8a",
   "metadata": {},
   "outputs": [
    {
     "data": {
      "text/plain": [
       "{0: 0, 1: 1, 2: 4, 3: 9, 4: 16, 5: 25, 6: 36, 7: 49, 8: 64, 9: 81}"
      ]
     },
     "execution_count": 5,
     "metadata": {},
     "output_type": "execute_result"
    }
   ],
   "source": [
    "dic_squares = {k:k**2 for k in range(10)}\n",
    "dic_squares"
   ]
  },
  {
   "cell_type": "markdown",
   "id": "9a9e5dab",
   "metadata": {},
   "source": [
    "Q6. Construct the set odd from the odd numbers in the range using a set comprehension (10).\n",
    "\n",
    "Ans:"
   ]
  },
  {
   "cell_type": "code",
   "execution_count": 6,
   "id": "b244bdbb",
   "metadata": {},
   "outputs": [
    {
     "data": {
      "text/plain": [
       "{1, 3, 5, 7, 9}"
      ]
     },
     "execution_count": 6,
     "metadata": {},
     "output_type": "execute_result"
    }
   ],
   "source": [
    "set_odd = {s for s in range(10) if s%2!=0}\n",
    "set_odd"
   ]
  },
  {
   "cell_type": "markdown",
   "id": "45121f36",
   "metadata": {},
   "source": [
    "Q7. Use a generator comprehension to return the string 'Got ' and a number for the numbers in range(10). Iterate through this by using a for loop.\n",
    "\n",
    "Ans:"
   ]
  },
  {
   "cell_type": "code",
   "execution_count": 7,
   "id": "59ce0462",
   "metadata": {},
   "outputs": [
    {
     "name": "stdout",
     "output_type": "stream",
     "text": [
      "Got 0\n",
      "Got 1\n",
      "Got 2\n",
      "Got 3\n",
      "Got 4\n",
      "Got 5\n",
      "Got 6\n",
      "Got 7\n",
      "Got 8\n",
      "Got 9\n"
     ]
    }
   ],
   "source": [
    "string_generator = ('Got ' + str(num) for num in range(10))\n",
    "for n in string_generator:\n",
    "    print(n)"
   ]
  },
  {
   "cell_type": "markdown",
   "id": "a5ba3b23",
   "metadata": {},
   "source": [
    "Q8. Define a function called good that returns the list ['Harry', 'Ron', 'Hermione'].\n",
    "\n",
    "Ans:"
   ]
  },
  {
   "cell_type": "code",
   "execution_count": 8,
   "id": "8c8860bd",
   "metadata": {},
   "outputs": [],
   "source": [
    "lst = ['Harry', 'Ron', 'Hermione']\n",
    "def good(lst):\n",
    "    return lst"
   ]
  },
  {
   "cell_type": "code",
   "execution_count": 9,
   "id": "fab74c34",
   "metadata": {},
   "outputs": [
    {
     "data": {
      "text/plain": [
       "['Harry', 'Ron', 'Hermione']"
      ]
     },
     "execution_count": 9,
     "metadata": {},
     "output_type": "execute_result"
    }
   ],
   "source": [
    "good(lst)"
   ]
  },
  {
   "cell_type": "markdown",
   "id": "df3a309c",
   "metadata": {},
   "source": [
    "Q9. Define a generator function called get_odds that returns the odd numbers from range(10). Use a for loop to find and print the third value returned.\n",
    "\n",
    "Ans:"
   ]
  },
  {
   "cell_type": "code",
   "execution_count": 10,
   "id": "ed436f11",
   "metadata": {},
   "outputs": [
    {
     "name": "stdout",
     "output_type": "stream",
     "text": [
      "The third odd number is: 5\n"
     ]
    }
   ],
   "source": [
    "def get_odds():\n",
    "    for i in range(1,10,2):\n",
    "        yield i\n",
    "\n",
    "count = 1\n",
    "for number in get_odds():\n",
    "    if count == 3:\n",
    "        print(f\"The third odd number is: {number}\")\n",
    "        break\n",
    "    count += 1"
   ]
  },
  {
   "cell_type": "markdown",
   "id": "6263cf42",
   "metadata": {},
   "source": [
    "Q10. Define an exception called OopsException. Raise this exception to see what happens. Then write the code to catch this exception and print 'Caught an oops'.\n",
    "\n",
    "Ans:"
   ]
  },
  {
   "cell_type": "code",
   "execution_count": 11,
   "id": "52a6fd16",
   "metadata": {},
   "outputs": [
    {
     "name": "stdout",
     "output_type": "stream",
     "text": [
      "Caught an oops -1\n"
     ]
    }
   ],
   "source": [
    "class OopsException(Exception):\n",
    "    pass\n",
    "\n",
    "def raiseException(number):\n",
    "    if number < 0:\n",
    "        raise OopsException(number)\n",
    "\n",
    "try:\n",
    "    raiseException(-1)\n",
    "except OopsException as err:\n",
    "    print('Caught an oops', err)"
   ]
  },
  {
   "cell_type": "markdown",
   "id": "ee1b8909",
   "metadata": {},
   "source": [
    "Q11. Use zip() to make a dictionary called movies that pairs these lists: titles = ['Creature of Habit', 'Crewel Fate'] and plots = ['A nun turns into a monster', 'A haunted yarn shop'].\n",
    "\n",
    "Ans:"
   ]
  },
  {
   "cell_type": "code",
   "execution_count": 12,
   "id": "e20bbf7c",
   "metadata": {},
   "outputs": [
    {
     "name": "stdout",
     "output_type": "stream",
     "text": [
      "{'C': 'A', 'r': ' ', 'e': 'y', 'w': 'a', 'l': 'n', ' ': 't', 'F': 'e', 'a': 'd', 't': ' '}\n"
     ]
    }
   ],
   "source": [
    "titles = ['Creature of Habit', 'Crewel Fate'] \n",
    "plots = ['A nun turns into a monster', 'A haunted yarn shop']\n",
    "movies = {}\n",
    "for titles,plots in zip(titles,plots):\n",
    "    movies = dict(zip(titles, plots))\n",
    "print(movies)"
   ]
  },
  {
   "cell_type": "code",
   "execution_count": null,
   "id": "0babd27c",
   "metadata": {},
   "outputs": [],
   "source": []
  }
 ],
 "metadata": {
  "kernelspec": {
   "display_name": "Python 3 (ipykernel)",
   "language": "python",
   "name": "python3"
  },
  "language_info": {
   "codemirror_mode": {
    "name": "ipython",
    "version": 3
   },
   "file_extension": ".py",
   "mimetype": "text/x-python",
   "name": "python",
   "nbconvert_exporter": "python",
   "pygments_lexer": "ipython3",
   "version": "3.9.7"
  }
 },
 "nbformat": 4,
 "nbformat_minor": 5
}
