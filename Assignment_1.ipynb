{
 "cells": [
  {
   "cell_type": "markdown",
   "id": "89da852c",
   "metadata": {},
   "source": [
    "Q1. Values are 'hello', -87.8, 6 and Expressions are * - / and +"
   ]
  },
  {
   "cell_type": "markdown",
   "id": "33e3520a",
   "metadata": {},
   "source": [
    "Q2. i. In Python programming, a variable is a container for storing data values. for eg.\n",
    "a = 5\n",
    "b = 78.9\n",
    "c = 'srimant'\n",
    "\n",
    "Here a,b,c are called variables of type Integer, float and string respectively. Hence the assigned value to the variable can be many types such as Integer,float,complex,string etc\n",
    "a=10\n",
    "b=20\n",
    "print(a+b) Since it is performing adding of two integer variables, output will be 30\n",
    "ii. But String is a type of variable which are surrounded by either single quotation marks, or double quotation marks.\n",
    "for eg. a = 'srimant'\n",
    "b='10'\n",
    "c='20'\n",
    "print(b+c) Since variables are strings this program will return 1020."
   ]
  },
  {
   "cell_type": "markdown",
   "id": "040b194b",
   "metadata": {},
   "source": [
    "Q3. Integers – This data type is represented with the help of int class. It consists of positive or negative whole numbers (without fraction or decimal). eg. a=20\n",
    "    Float – This type is represented by the float class. It is a true number with floating-point representation. It is specified by a decimal point. eg. a = 88.235\n",
    "    Complex Numbers – Complex numbers are represented by complex classes. It is specified as (real part) + (imaginary part)j, For example – 4+5j."
   ]
  },
  {
   "cell_type": "markdown",
   "id": "171bd338",
   "metadata": {},
   "source": [
    "Q4. An expression is a construct made up of variables, operators, and method invocations, which are constructed according to the syntax of the language, that evaluates to a single value. So, an expression is a combination of operators and operands that is interpreted to produce some other value. In any programming language, an expression is evaluated as per the precedence of its operators. for eg. x+y performs addition operations and x = a * b performing multiple operation and assigning the value to x."
   ]
  },
  {
   "cell_type": "markdown",
   "id": "faa8d636",
   "metadata": {},
   "source": [
    "Q5. Instructions that python interpreter can execute are called Statements.So, in simple words, we can say anything written in Python is a statement.\n",
    "In the other hand, an expression is a combination of operators and operands that is interpreted to produce some other value."
   ]
  },
  {
   "cell_type": "code",
   "execution_count": 2,
   "id": "5f2d2355",
   "metadata": {},
   "outputs": [
    {
     "data": {
      "text/plain": [
       "23"
      ]
     },
     "execution_count": 2,
     "metadata": {},
     "output_type": "execute_result"
    }
   ],
   "source": [
    "bacon=22\n",
    "bacon+1"
   ]
  },
  {
   "cell_type": "markdown",
   "id": "cde86ce3",
   "metadata": {},
   "source": [
    "Q6. As per the above code, bacon conatins 23"
   ]
  },
  {
   "cell_type": "markdown",
   "id": "88c2cfd5",
   "metadata": {},
   "source": [
    "Q7. i. Values 'spam' + 'spamspam' will return spamspamspam\n",
    "    ii.  'spam' * 3 will also return spamspamspam\n",
    " and You can see this as following,"
   ]
  },
  {
   "cell_type": "code",
   "execution_count": 4,
   "id": "2b00f2e5",
   "metadata": {},
   "outputs": [
    {
     "data": {
      "text/plain": [
       "'spamspamspam'"
      ]
     },
     "execution_count": 4,
     "metadata": {},
     "output_type": "execute_result"
    }
   ],
   "source": [
    "'spam' + 'spamspam'"
   ]
  },
  {
   "cell_type": "code",
   "execution_count": 5,
   "id": "4c058df8",
   "metadata": {},
   "outputs": [
    {
     "data": {
      "text/plain": [
       "'spamspamspam'"
      ]
     },
     "execution_count": 5,
     "metadata": {},
     "output_type": "execute_result"
    }
   ],
   "source": [
    "'spam' * 3"
   ]
  },
  {
   "cell_type": "markdown",
   "id": "5a6d47af",
   "metadata": {},
   "source": [
    "Q8. We can not give a variable an Integer name like 100. so egg is a valid variable name where is 100 is invalid."
   ]
  },
  {
   "cell_type": "markdown",
   "id": "6724cce2",
   "metadata": {},
   "source": [
    "Q9. int(), float(), str() are three functions can be used to get the integer, floating-point number, or string version of a value respectively."
   ]
  },
  {
   "cell_type": "markdown",
   "id": "cade301d",
   "metadata": {},
   "source": [
    "Q10. This expression, 'I have eaten' + 99 + 'burritos' will cause an error, an integer 99 cannot be concatinate with strings. Typecasting of 99 to string can fix the problem."
   ]
  },
  {
   "cell_type": "code",
   "execution_count": 7,
   "id": "e1af20d0",
   "metadata": {},
   "outputs": [
    {
     "data": {
      "text/plain": [
       "'I have eaten99burritos'"
      ]
     },
     "execution_count": 7,
     "metadata": {},
     "output_type": "execute_result"
    }
   ],
   "source": [
    "'I have eaten' + str(99) + 'burritos' "
   ]
  },
  {
   "cell_type": "code",
   "execution_count": null,
   "id": "611477c0",
   "metadata": {},
   "outputs": [],
   "source": []
  }
 ],
 "metadata": {
  "kernelspec": {
   "display_name": "Python 3 (ipykernel)",
   "language": "python",
   "name": "python3"
  },
  "language_info": {
   "codemirror_mode": {
    "name": "ipython",
    "version": 3
   },
   "file_extension": ".py",
   "mimetype": "text/x-python",
   "name": "python",
   "nbconvert_exporter": "python",
   "pygments_lexer": "ipython3",
   "version": "3.9.7"
  }
 },
 "nbformat": 4,
 "nbformat_minor": 5
}
