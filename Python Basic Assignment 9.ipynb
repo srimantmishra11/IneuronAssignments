{
 "cells": [
  {
   "cell_type": "markdown",
   "id": "a9053dc8",
   "metadata": {},
   "source": [
    "1) - Relative paths are relative to the current working directory."
   ]
  },
  {
   "cell_type": "markdown",
   "id": "b3397b87",
   "metadata": {},
   "source": [
    "2) - Absolute paths start with the root folder, such as / or C:\\."
   ]
  },
  {
   "cell_type": "markdown",
   "id": "28a79bb2",
   "metadata": {},
   "source": [
    "3) - The os.getcwd() function returns the current working directory. \n",
    "     The os.chdir() function changes the current working directory."
   ]
  },
  {
   "cell_type": "markdown",
   "id": "7905607d",
   "metadata": {},
   "source": [
    "4) The . folder is the current folder, and .. is the parent folder."
   ]
  },
  {
   "cell_type": "markdown",
   "id": "123d9c5d",
   "metadata": {},
   "source": [
    "5) - C:\\bacon\\eggs is the dir name, while spam.txt is the base name."
   ]
  },
  {
   "cell_type": "markdown",
   "id": "ade3d294",
   "metadata": {},
   "source": [
    "6) - The string 'r' for read mode, 'w' for write mode, and 'a' for append mode"
   ]
  },
  {
   "cell_type": "markdown",
   "id": "d3425b23",
   "metadata": {},
   "source": [
    "7) - An existing file opened in write mode is erased and completely overwritten."
   ]
  },
  {
   "cell_type": "markdown",
   "id": "5da5e366",
   "metadata": {},
   "source": [
    "8) - The read() method returns the file's entire contents as a single string value. The readlines() method returns a list of strings, where each string is a line from the file's contents.\n"
   ]
  },
  {
   "cell_type": "markdown",
   "id": "04002e77",
   "metadata": {},
   "source": [
    "9) - A shelf value resembles a dictionary value; it has keys and values, along with keys() and values() methods that work similarly to the dictionary methods of the same names."
   ]
  },
  {
   "cell_type": "code",
   "execution_count": null,
   "id": "551491ca",
   "metadata": {},
   "outputs": [],
   "source": []
  }
 ],
 "metadata": {
  "kernelspec": {
   "display_name": "Python 3 (ipykernel)",
   "language": "python",
   "name": "python3"
  },
  "language_info": {
   "codemirror_mode": {
    "name": "ipython",
    "version": 3
   },
   "file_extension": ".py",
   "mimetype": "text/x-python",
   "name": "python",
   "nbconvert_exporter": "python",
   "pygments_lexer": "ipython3",
   "version": "3.9.7"
  }
 },
 "nbformat": 4,
 "nbformat_minor": 5
}
