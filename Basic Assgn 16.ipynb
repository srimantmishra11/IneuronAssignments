{
 "cells": [
  {
   "cell_type": "markdown",
   "id": "02ebd832",
   "metadata": {},
   "source": [
    "Q1. Create a list called years_list, starting with the year of your birth, and each year thereafter until the year of your fifth birthday. For example, if you were born in 1980. the list would be years_list = [1980, 1981, 1982, 1983, 1984, 1985].\n",
    "\n",
    "Ans"
   ]
  },
  {
   "cell_type": "code",
   "execution_count": 4,
   "id": "dc5be41a",
   "metadata": {},
   "outputs": [
    {
     "data": {
      "text/plain": [
       "[1998, 1999, 2000, 2001, 2002, 2003]"
      ]
     },
     "execution_count": 4,
     "metadata": {},
     "output_type": "execute_result"
    }
   ],
   "source": [
    "years_list = [i for i in range(1998,1998+6)]\n",
    "years_list"
   ]
  },
  {
   "cell_type": "markdown",
   "id": "9f182196",
   "metadata": {},
   "source": [
    "Q2. In which year in years_list was your third birthday? Remember, you were 0 years of age for your first year.\n",
    "\n",
    "Ans:"
   ]
  },
  {
   "cell_type": "code",
   "execution_count": 5,
   "id": "d24af26c",
   "metadata": {},
   "outputs": [
    {
     "data": {
      "text/plain": [
       "2001"
      ]
     },
     "execution_count": 5,
     "metadata": {},
     "output_type": "execute_result"
    }
   ],
   "source": [
    "years_list[3]"
   ]
  },
  {
   "cell_type": "markdown",
   "id": "350df2f8",
   "metadata": {},
   "source": [
    "Q3.In the years list, which year were you the oldest?\n",
    "\n",
    "Ans:"
   ]
  },
  {
   "cell_type": "code",
   "execution_count": 6,
   "id": "eb429acf",
   "metadata": {},
   "outputs": [
    {
     "data": {
      "text/plain": [
       "2003"
      ]
     },
     "execution_count": 6,
     "metadata": {},
     "output_type": "execute_result"
    }
   ],
   "source": [
    "max(years_list)"
   ]
  },
  {
   "cell_type": "markdown",
   "id": "a6ce3fe6",
   "metadata": {},
   "source": [
    "Q4. Make a list called things with these three strings as elements: \"mozzarella\", \"cinderella\", \"salmonella\".\n",
    "    \n",
    "Ans:"
   ]
  },
  {
   "cell_type": "code",
   "execution_count": 7,
   "id": "2e8e4410",
   "metadata": {},
   "outputs": [
    {
     "data": {
      "text/plain": [
       "['mozzarella', 'cinderella', 'salmonella']"
      ]
     },
     "execution_count": 7,
     "metadata": {},
     "output_type": "execute_result"
    }
   ],
   "source": [
    "things = [ \"mozzarella\", \"cinderella\", \"salmonella\"]\n",
    "things"
   ]
  },
  {
   "cell_type": "markdown",
   "id": "6cdbb613",
   "metadata": {},
   "source": [
    "Q5. Capitalize the element in things that refers to a person and then print the list. Did it change the element in the list?\n",
    "\n",
    "Ans:"
   ]
  },
  {
   "cell_type": "code",
   "execution_count": 8,
   "id": "5ef50831",
   "metadata": {},
   "outputs": [
    {
     "name": "stdout",
     "output_type": "stream",
     "text": [
      "Mozzarella\n",
      "Cinderella\n",
      "Salmonella\n"
     ]
    },
    {
     "data": {
      "text/plain": [
       "['mozzarella', 'cinderella', 'salmonella']"
      ]
     },
     "execution_count": 8,
     "metadata": {},
     "output_type": "execute_result"
    }
   ],
   "source": [
    "for i in things:\n",
    "    print(i.capitalize())\n",
    "things\n",
    "#Capitalize() will not update the list original values."
   ]
  },
  {
   "cell_type": "markdown",
   "id": "de48da74",
   "metadata": {},
   "source": [
    "Q6. Make a surprise list with the elements \"Groucho,\" \"Chico,\" and \"Harpo.\"\n",
    "\n",
    "Ans:"
   ]
  },
  {
   "cell_type": "code",
   "execution_count": 9,
   "id": "628322ec",
   "metadata": {},
   "outputs": [
    {
     "data": {
      "text/plain": [
       "['Groucho', 'Chico', 'Harpo']"
      ]
     },
     "execution_count": 9,
     "metadata": {},
     "output_type": "execute_result"
    }
   ],
   "source": [
    "surprise = [ \"Groucho\", \"Chico\",\"Harpo\"]\n",
    "surprise"
   ]
  },
  {
   "cell_type": "markdown",
   "id": "b8b8a45e",
   "metadata": {},
   "source": [
    "Q7. Lowercase the last element of the surprise list, reverse it, and then capitalize it.\n",
    "\n",
    "Ans:"
   ]
  },
  {
   "cell_type": "code",
   "execution_count": 10,
   "id": "024ca2a8",
   "metadata": {},
   "outputs": [
    {
     "data": {
      "text/plain": [
       "'harpo'"
      ]
     },
     "execution_count": 10,
     "metadata": {},
     "output_type": "execute_result"
    }
   ],
   "source": [
    "surprise[-1].lower()"
   ]
  },
  {
   "cell_type": "code",
   "execution_count": 11,
   "id": "181058c7",
   "metadata": {},
   "outputs": [
    {
     "data": {
      "text/plain": [
       "'opraH'"
      ]
     },
     "execution_count": 11,
     "metadata": {},
     "output_type": "execute_result"
    }
   ],
   "source": [
    "surprise[-1][::-1]"
   ]
  },
  {
   "cell_type": "code",
   "execution_count": 12,
   "id": "a25a5627",
   "metadata": {},
   "outputs": [
    {
     "data": {
      "text/plain": [
       "'OPRAH'"
      ]
     },
     "execution_count": 12,
     "metadata": {},
     "output_type": "execute_result"
    }
   ],
   "source": [
    "surprise[-1][::-1].upper()"
   ]
  },
  {
   "cell_type": "markdown",
   "id": "1e34fb76",
   "metadata": {},
   "source": [
    "Q8. Make an English-to-French dictionary called e2f and print it. Here are your starter words: dog is chien, cat is chat, and walrus is morse.\n",
    "\n",
    "Ans:"
   ]
  },
  {
   "cell_type": "code",
   "execution_count": 13,
   "id": "b09efc3c",
   "metadata": {},
   "outputs": [
    {
     "data": {
      "text/plain": [
       "{'dog': 'chien', 'cat': 'chat', 'walrus': 'morse'}"
      ]
     },
     "execution_count": 13,
     "metadata": {},
     "output_type": "execute_result"
    }
   ],
   "source": [
    "e2f = {'dog':'chien' , 'cat':'chat', 'walrus':'morse'}\n",
    "e2f"
   ]
  },
  {
   "cell_type": "markdown",
   "id": "35b36a53",
   "metadata": {},
   "source": [
    "Q9. Write the French word for walrus in your three-word dictionary e2f.\n",
    "\n",
    "Ans:"
   ]
  },
  {
   "cell_type": "code",
   "execution_count": 14,
   "id": "8fb60d1c",
   "metadata": {},
   "outputs": [
    {
     "data": {
      "text/plain": [
       "'morse'"
      ]
     },
     "execution_count": 14,
     "metadata": {},
     "output_type": "execute_result"
    }
   ],
   "source": [
    "e2f['walrus']"
   ]
  },
  {
   "cell_type": "markdown",
   "id": "b3e0724a",
   "metadata": {},
   "source": [
    "Q10. Make a French-to-English dictionary called f2e from e2f. Use the items method.\n",
    "\n",
    "Ans:"
   ]
  },
  {
   "cell_type": "code",
   "execution_count": 15,
   "id": "6cbe8952",
   "metadata": {},
   "outputs": [
    {
     "name": "stdout",
     "output_type": "stream",
     "text": [
      "{'chien': 'dog', 'chat': 'cat', 'morse': 'walrus'}\n"
     ]
    }
   ],
   "source": [
    "f2e = {v:k for (k,v) in e2f.items()}\n",
    "print(f2e)"
   ]
  },
  {
   "cell_type": "markdown",
   "id": "701e18f8",
   "metadata": {},
   "source": [
    "Q11. Print the English version of the French word chien using f2e.\n",
    "\n",
    "Ans:"
   ]
  },
  {
   "cell_type": "code",
   "execution_count": 16,
   "id": "de772f95",
   "metadata": {},
   "outputs": [
    {
     "data": {
      "text/plain": [
       "'dog'"
      ]
     },
     "execution_count": 16,
     "metadata": {},
     "output_type": "execute_result"
    }
   ],
   "source": [
    "f2e['chien']"
   ]
  },
  {
   "cell_type": "markdown",
   "id": "1342c032",
   "metadata": {},
   "source": [
    "Q12. Make and print a set of English words from the keys in e2f.\n",
    "\n",
    "Ans:"
   ]
  },
  {
   "cell_type": "code",
   "execution_count": 17,
   "id": "684fa6eb",
   "metadata": {},
   "outputs": [
    {
     "data": {
      "text/plain": [
       "dict_keys(['dog', 'cat', 'walrus'])"
      ]
     },
     "execution_count": 17,
     "metadata": {},
     "output_type": "execute_result"
    }
   ],
   "source": [
    "e2f.keys()"
   ]
  },
  {
   "cell_type": "markdown",
   "id": "420ae9a9",
   "metadata": {},
   "source": [
    "Q13. Make a multilevel dictionary called life. Use these strings for the topmost keys: 'animals', 'plants', and 'other'. Make the 'animals' key refer to another dictionary with the keys 'cats', 'octopi', and 'emus'. Make the 'cats' key refer to a list of strings with the values 'Henri', 'Grumpy', and 'Lucy'. Make all the other keys refer to empty dictionaries.\n",
    "\n",
    "Ans"
   ]
  },
  {
   "cell_type": "code",
   "execution_count": 18,
   "id": "21a72760",
   "metadata": {},
   "outputs": [
    {
     "data": {
      "text/plain": [
       "{'animals': {'cats': ['Henri', 'Grumpy', 'Lucy'], 'octopi': '', 'emus': ''},\n",
       " 'plants': {},\n",
       " 'other': {}}"
      ]
     },
     "execution_count": 18,
     "metadata": {},
     "output_type": "execute_result"
    }
   ],
   "source": [
    "life = {'animals':\n",
    "        {'cats':['Henri','Grumpy','Lucy'],  'octopi':'', 'emus':''},\n",
    "        'plants':{},\n",
    "        'other':{}\n",
    "}\n",
    "life"
   ]
  },
  {
   "cell_type": "markdown",
   "id": "e93d2597",
   "metadata": {},
   "source": [
    "Q14. Print the top-level keys of life.\n",
    "\n",
    "Ans:"
   ]
  },
  {
   "cell_type": "code",
   "execution_count": 19,
   "id": "92fe246d",
   "metadata": {},
   "outputs": [
    {
     "data": {
      "text/plain": [
       "dict_keys(['animals', 'plants', 'other'])"
      ]
     },
     "execution_count": 19,
     "metadata": {},
     "output_type": "execute_result"
    }
   ],
   "source": [
    "life.keys()"
   ]
  },
  {
   "cell_type": "markdown",
   "id": "9c75e7cb",
   "metadata": {},
   "source": [
    "Q15. Print the keys for life['animals'].\n",
    "\n",
    "Ans:"
   ]
  },
  {
   "cell_type": "code",
   "execution_count": 20,
   "id": "ec1a76b5",
   "metadata": {},
   "outputs": [
    {
     "data": {
      "text/plain": [
       "dict_keys(['cats', 'octopi', 'emus'])"
      ]
     },
     "execution_count": 20,
     "metadata": {},
     "output_type": "execute_result"
    }
   ],
   "source": [
    "life['animals'].keys()"
   ]
  },
  {
   "cell_type": "markdown",
   "id": "73d63a58",
   "metadata": {},
   "source": [
    "Q16. Print the values for life['animals']['cats']\n",
    "\n",
    "Ans:"
   ]
  },
  {
   "cell_type": "code",
   "execution_count": 21,
   "id": "303953b6",
   "metadata": {},
   "outputs": [
    {
     "data": {
      "text/plain": [
       "['Henri', 'Grumpy', 'Lucy']"
      ]
     },
     "execution_count": 21,
     "metadata": {},
     "output_type": "execute_result"
    }
   ],
   "source": [
    "life['animals']['cats']"
   ]
  },
  {
   "cell_type": "code",
   "execution_count": null,
   "id": "764909b3",
   "metadata": {},
   "outputs": [],
   "source": []
  }
 ],
 "metadata": {
  "kernelspec": {
   "display_name": "Python 3 (ipykernel)",
   "language": "python",
   "name": "python3"
  },
  "language_info": {
   "codemirror_mode": {
    "name": "ipython",
    "version": 3
   },
   "file_extension": ".py",
   "mimetype": "text/x-python",
   "name": "python",
   "nbconvert_exporter": "python",
   "pygments_lexer": "ipython3",
   "version": "3.9.7"
  }
 },
 "nbformat": 4,
 "nbformat_minor": 5
}
