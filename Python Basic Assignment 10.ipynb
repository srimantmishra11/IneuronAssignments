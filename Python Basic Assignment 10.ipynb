{
 "cells": [
  {
   "cell_type": "markdown",
   "id": "00a91bf0",
   "metadata": {},
   "source": [
    "1) While shutil. copy() will copy a single file, shutil. copytree() will copy an entire folder and every folder and file contained in it. "
   ]
  },
  {
   "cell_type": "markdown",
   "id": "2c7092f3",
   "metadata": {},
   "source": [
    "2) os. rename() method in Python is used to rename a file."
   ]
  },
  {
   "cell_type": "markdown",
   "id": "7857ca5b",
   "metadata": {},
   "source": [
    "3) delete function will permanently delete files and folders where send2trash function will move the files or folder to recycle bins"
   ]
  },
  {
   "cell_type": "markdown",
   "id": "5a3e749f",
   "metadata": {},
   "source": [
    "4) The zipfile.ZipFile() function is equivalent to the open() function where the first argument is the filename and the second argument is the mode to open the ZIP file in (read, write, or append)."
   ]
  },
  {
   "cell_type": "code",
   "execution_count": 11,
   "id": "5189fa12",
   "metadata": {},
   "outputs": [
    {
     "name": "stdout",
     "output_type": "stream",
     "text": [
      "Looking in C:\\Users\\USER\\RR for files with extensions of .pdf, .jpg\n",
      "Coping C:\\Users\\USER\\RR\\MyBSNLBill.pdf to C:\\Users\\USER\\SS\n"
     ]
    }
   ],
   "source": [
    "import os, shutil\n",
    "\n",
    "def filecopy(folder, extensions, destFolder):\n",
    "\tfolder = os.path.abspath(folder)\n",
    "\tdestFolder = os.path.abspath(destFolder)\n",
    "\tprint('Looking in', folder, 'for files with extensions of', ', '.join(extensions))\n",
    "\tfor foldername, subfolders, filenames in os.walk(folder):\n",
    "\t\tfor filename in filenames:\n",
    "\t\t\tname, extension = os.path.splitext(filename)\n",
    "\t\t\tif extension in extensions:\n",
    "\t\t\t\tfileAbsPath = foldername + os.path.sep + filename\n",
    "\t\t\t\tprint('Coping', fileAbsPath, 'to', destFolder)\n",
    "\t\t\t\tshutil.copy(fileAbsPath, destFolder)\n",
    "\n",
    "extensions = ['.pdf', '.jpg']\n",
    "folder = \"RR\"\n",
    "destFolder = 'SS'\n",
    "filecopy(folder, extensions, destFolder)"
   ]
  },
  {
   "cell_type": "code",
   "execution_count": null,
   "id": "a76aeac3",
   "metadata": {},
   "outputs": [],
   "source": []
  }
 ],
 "metadata": {
  "kernelspec": {
   "display_name": "Python 3 (ipykernel)",
   "language": "python",
   "name": "python3"
  },
  "language_info": {
   "codemirror_mode": {
    "name": "ipython",
    "version": 3
   },
   "file_extension": ".py",
   "mimetype": "text/x-python",
   "name": "python",
   "nbconvert_exporter": "python",
   "pygments_lexer": "ipython3",
   "version": "3.9.7"
  }
 },
 "nbformat": 4,
 "nbformat_minor": 5
}
