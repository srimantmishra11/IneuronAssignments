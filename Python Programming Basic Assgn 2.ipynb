{
 "cells": [
  {
   "cell_type": "markdown",
   "id": "280bf310",
   "metadata": {},
   "source": [
    "1. Write a Python program to convert kilometers to miles?"
   ]
  },
  {
   "cell_type": "code",
   "execution_count": 2,
   "id": "dfec1e5e",
   "metadata": {},
   "outputs": [
    {
     "name": "stdout",
     "output_type": "stream",
     "text": [
      "Enter kilometer16\n",
      "16  Km is  9.941936  miles\n"
     ]
    }
   ],
   "source": [
    "def test1():\n",
    "    a=int(input(\"Enter kilometer\"))\n",
    "    b = a*0.621371\n",
    "    print(a,\" Km is \",b,\" miles\")\n",
    "test1()"
   ]
  },
  {
   "cell_type": "markdown",
   "id": "d9695af3",
   "metadata": {},
   "source": [
    "2. Write a Python program to convert Celsius to Fahrenheit?"
   ]
  },
  {
   "cell_type": "code",
   "execution_count": 4,
   "id": "ca20ddbe",
   "metadata": {},
   "outputs": [
    {
     "name": "stdout",
     "output_type": "stream",
     "text": [
      "Enter celcius37\n",
      "Farenheit:  98.60000000000001\n"
     ]
    }
   ],
   "source": [
    "def test2():\n",
    "    a = int(input(\"Enter celcius\"))\n",
    "    b = (a*1.8)+32\n",
    "    print(\"Farenheit: \",b)\n",
    "test2()"
   ]
  },
  {
   "cell_type": "markdown",
   "id": "251b8a7c",
   "metadata": {},
   "source": [
    "3.Write a Python program to display calendar?"
   ]
  },
  {
   "cell_type": "code",
   "execution_count": 8,
   "id": "40159f97",
   "metadata": {},
   "outputs": [
    {
     "name": "stdout",
     "output_type": "stream",
     "text": [
      "Enter Year: 2022\n",
      "Enter month 4\n",
      "     April 2022\n",
      "Mo Tu We Th Fr Sa Su\n",
      "             1  2  3\n",
      " 4  5  6  7  8  9 10\n",
      "11 12 13 14 15 16 17\n",
      "18 19 20 21 22 23 24\n",
      "25 26 27 28 29 30\n",
      "\n"
     ]
    }
   ],
   "source": [
    "import calendar\n",
    "def test3():\n",
    "    a = int(input(\"Enter Year: \"))\n",
    "    b = int(input(\"Enter month \"))\n",
    "    print(calendar.month(a,b))\n",
    "test3()"
   ]
  },
  {
   "cell_type": "markdown",
   "id": "2de3cb36",
   "metadata": {},
   "source": [
    "4. Write a Python program to solve quadratic equation?"
   ]
  },
  {
   "cell_type": "code",
   "execution_count": 9,
   "id": "b649e36e",
   "metadata": {},
   "outputs": [
    {
     "name": "stdout",
     "output_type": "stream",
     "text": [
      "Value of a11\n",
      "Value of b13\n",
      "Value of c5\n",
      "Two solutions are (-0.5909090909090909-0.3246103831155841j) and (-0.5909090909090909+0.3246103831155841j)\n"
     ]
    }
   ],
   "source": [
    "import cmath\n",
    "def test4():\n",
    "    a = int(input(\"Value of a\"))\n",
    "    b = int(input(\"Value of b\"))\n",
    "    c = int(input(\"Value of c\"))\n",
    "    d = (b**2) - (4*a*c) #discriminant\n",
    "    s1 = (-b-cmath.sqrt(d))/(2*a)\n",
    "    s2 = (-b+cmath.sqrt(d))/(2*a)\n",
    "    print(\"Two solutions are {0} and {1}\".format(s1,s2))\n",
    "test4()"
   ]
  },
  {
   "cell_type": "markdown",
   "id": "f42fe45e",
   "metadata": {},
   "source": [
    "5. Write a Python program to swap two variables without temp variable?"
   ]
  },
  {
   "cell_type": "code",
   "execution_count": 12,
   "id": "b22195fc",
   "metadata": {},
   "outputs": [
    {
     "name": "stdout",
     "output_type": "stream",
     "text": [
      "Enter 1st num993\n",
      "Enter 2nd num -763\n",
      "After swapping value of 1st num is -763 and second num is 993\n"
     ]
    }
   ],
   "source": [
    "def test5():\n",
    "    a = int(input(\"Enter 1st num\"))\n",
    "    b = int(input(\"Enter 2nd num \"))\n",
    "    a = b-a\n",
    "    b=b-a\n",
    "    a=a+b\n",
    "    print(\"After swapping value of 1st num is {0} and second num is {1}\".format(a,b))\n",
    "test5()"
   ]
  },
  {
   "cell_type": "code",
   "execution_count": null,
   "id": "e505ad8f",
   "metadata": {},
   "outputs": [],
   "source": []
  }
 ],
 "metadata": {
  "kernelspec": {
   "display_name": "Python 3 (ipykernel)",
   "language": "python",
   "name": "python3"
  },
  "language_info": {
   "codemirror_mode": {
    "name": "ipython",
    "version": 3
   },
   "file_extension": ".py",
   "mimetype": "text/x-python",
   "name": "python",
   "nbconvert_exporter": "python",
   "pygments_lexer": "ipython3",
   "version": "3.9.7"
  }
 },
 "nbformat": 4,
 "nbformat_minor": 5
}
