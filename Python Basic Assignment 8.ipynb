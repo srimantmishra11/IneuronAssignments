{
 "cells": [
  {
   "cell_type": "markdown",
   "id": "50f714dd",
   "metadata": {},
   "source": [
    "1ans) PyInputPlus is not included with Python standard library. To install PyInputPlus we have to run pip install --user pyinputplus from the command line."
   ]
  },
  {
   "cell_type": "markdown",
   "id": "7822527d",
   "metadata": {},
   "source": [
    "2ans) The as pyip code in the import statement saves us from typing pyinputplus each time we want to call a PyInputPlus function. Instead we can use the shorter pyip name."
   ]
  },
  {
   "cell_type": "markdown",
   "id": "3bc3c7e4",
   "metadata": {},
   "source": [
    "3ans) inputInt() : Accepts an integer value. This also takes additional parameters 'min', 'max', 'greaterThan' and 'lessThan' for bounds. inputFloat() : Accepts a floating-point numeric value"
   ]
  },
  {
   "cell_type": "markdown",
   "id": "b90b1be1",
   "metadata": {},
   "source": [
    "4ans) By using pyip.inputint(min=0,max=100)"
   ]
  },
  {
   "cell_type": "markdown",
   "id": "239cb78c",
   "metadata": {},
   "source": [
    "5ans) The allowRegexes and blockRegexes keyword arguments take a list of regular expression strings to determine what the PyInputPlus function will accept or reject as valid input."
   ]
  },
  {
   "cell_type": "markdown",
   "id": "ef9f5686",
   "metadata": {},
   "source": [
    "6ans) inputStr() raises a TimeoutException exception. If the user answers incorrectly more than 3 times, it raises a RetryLimitException exception."
   ]
  },
  {
   "cell_type": "markdown",
   "id": "58f51fff",
   "metadata": {},
   "source": [
    "7ans) It returns a None value"
   ]
  },
  {
   "cell_type": "code",
   "execution_count": null,
   "id": "75871f16",
   "metadata": {},
   "outputs": [],
   "source": []
  }
 ],
 "metadata": {
  "kernelspec": {
   "display_name": "Python 3 (ipykernel)",
   "language": "python",
   "name": "python3"
  },
  "language_info": {
   "codemirror_mode": {
    "name": "ipython",
    "version": 3
   },
   "file_extension": ".py",
   "mimetype": "text/x-python",
   "name": "python",
   "nbconvert_exporter": "python",
   "pygments_lexer": "ipython3",
   "version": "3.9.7"
  }
 },
 "nbformat": 4,
 "nbformat_minor": 5
}
