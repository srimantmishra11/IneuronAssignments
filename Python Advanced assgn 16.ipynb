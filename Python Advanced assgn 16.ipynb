{
 "cells": [
  {
   "cell_type": "markdown",
   "id": "45ba6c29",
   "metadata": {},
   "source": [
    "Q1. What is the benefit of regular expressions?\n",
    "\n",
    "Ans:\n",
    "\n",
    "Regular expressions help in validation of text strings which are of programmer’s interest. It offers a powerful tool for analyzing, searching a pattern and modifying the text data. It helps in searching specific string pattern and extracting matching results in a flexible manner. It helps in parsing text files looking for a defined sequence of characters for further analysis or data manipulation.\n",
    "\n",
    "Q2. Describe the difference between the effects of \"(ab)c+\" and \"a(bc)+.\" Which of these, if any, is the unqualified pattern \"abc+\"?\n",
    "\n",
    "Ans:\n",
    "\n",
    "Pattern (ab)c+ will search for at only one occurence of \"ab\" and one or more occurances of c.\n",
    "\n",
    "Pattern a(bc)+ will search for at only one occurence of \"a\" and one or more occurances of bc.\n",
    "\n",
    "pattern (ab)c+ can be unqualified pattern \"abc+\""
   ]
  },
  {
   "cell_type": "code",
   "execution_count": 1,
   "id": "ebdb2d39",
   "metadata": {},
   "outputs": [
    {
     "name": "stdout",
     "output_type": "stream",
     "text": [
      "abcccccc\n",
      "abcbc\n"
     ]
    }
   ],
   "source": [
    "import re\n",
    "\n",
    "match1 = re.search(r'(ab)c+',\"abcccccc\")\n",
    "match2 = re.search(r'a(bc)+',\"abcbc\")\n",
    "\n",
    "print(match1.group())\n",
    "\n",
    "print(match2.group())"
   ]
  },
  {
   "cell_type": "markdown",
   "id": "d51f5c87",
   "metadata": {},
   "source": [
    "Q3. How much do you need to use the following sentence while using regular expressions?\n",
    "import re\n",
    "\n",
    "Ans:\n",
    "\n",
    "We have to use it everytime we use functions of the module re.\n",
    "\n",
    "Q4. Which characters have special significance in square brackets when expressing a range, and under what circumstances?\n",
    "\n",
    "Ans:\n",
    "\n",
    "\\ (backslash) : general escape character, is usd when you use character class metacharacters as literals inside a character class only.\n",
    "\n",
    "^ (circumflex anchor) : negate the class, if this is the first character in the brackets(If ^ is not the first, it is not a metacharacter.)\n",
    "\n",
    "Q5. How does compiling a regular-expression object benefit you?\n",
    "\n",
    "Ans:\n",
    "\n",
    "It is faster compared to using pattern ad other re functions.\n",
    "\n",
    "Q6. What are some examples of how to use the match object returned by re.match and re.search?\n",
    "\n",
    "Ans:\n",
    "\n",
    "re.search() searches for the whole string even if the string contains multi-lines and tries to find a match of the substring in all the lines of string\n",
    "\n",
    "re.match() searches only from the beginning of the string and return match object if found. But if a match of substring is found somewhere in the middle of the string, it returns none.\n",
    "\n",
    "But, both search() and match() returns only the first occurance of pattern.\n",
    "\n",
    "Q7. What is the difference between using a vertical bar (|) as an alteration and using square brackets as a character set?\n",
    "\n",
    "Ans:\n",
    "\n",
    "| : is regex or. It will check either of any string is present in search string.\n",
    "\n",
    "[] : This will search for any character is present in string"
   ]
  },
  {
   "cell_type": "code",
   "execution_count": 2,
   "id": "643f81e6",
   "metadata": {},
   "outputs": [
    {
     "name": "stdout",
     "output_type": "stream",
     "text": [
      "['She']\n",
      "['she is great human!']\n"
     ]
    }
   ],
   "source": [
    "import re\n",
    "\n",
    "print(re.findall(\"She|he\", \"She is a great human!\"))\n",
    "\n",
    "print(re.findall(r'[^\\d]+',\"she is great human!\"))"
   ]
  },
  {
   "cell_type": "markdown",
   "id": "554524f4",
   "metadata": {},
   "source": [
    "Q8. In regular-expression search patterns, why is it necessary to use the raw-string indicator (r)? In replacement strings?\n",
    "\n",
    "Ans:\n",
    "\n",
    "r indicates raw string means that the characters ahead are individual charachers not escape characters. It changes how the string literal is interpreted. Such literals are stored as they appear."
   ]
  },
  {
   "cell_type": "code",
   "execution_count": null,
   "id": "4c78aeeb",
   "metadata": {},
   "outputs": [],
   "source": []
  }
 ],
 "metadata": {
  "kernelspec": {
   "display_name": "Python 3 (ipykernel)",
   "language": "python",
   "name": "python3"
  },
  "language_info": {
   "codemirror_mode": {
    "name": "ipython",
    "version": 3
   },
   "file_extension": ".py",
   "mimetype": "text/x-python",
   "name": "python",
   "nbconvert_exporter": "python",
   "pygments_lexer": "ipython3",
   "version": "3.9.7"
  }
 },
 "nbformat": 4,
 "nbformat_minor": 5
}
