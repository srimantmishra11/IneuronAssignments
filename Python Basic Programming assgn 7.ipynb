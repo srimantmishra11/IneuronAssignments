{
 "cells": [
  {
   "cell_type": "markdown",
   "id": "38092e78",
   "metadata": {},
   "source": [
    "1. Write a Python Program to find sum of array?"
   ]
  },
  {
   "cell_type": "code",
   "execution_count": 13,
   "id": "9feb1943",
   "metadata": {},
   "outputs": [
    {
     "name": "stdout",
     "output_type": "stream",
     "text": [
      "Howmany elements you want to insert6\n",
      "4\n",
      "4\n",
      "5\n",
      "2\n",
      "9\n",
      "8\n",
      "sum is 32\n"
     ]
    }
   ],
   "source": [
    "def test1():\n",
    "    arr = []\n",
    "    n = int(input(\"Howmany elements you want to insert\"))\n",
    "    for i in range(1,n+1):\n",
    "        value = int(input())\n",
    "        arr.append(value)\n",
    "    total = sum(arr)\n",
    "    print(\"sum is {0}\".format(total))\n",
    "test1()"
   ]
  },
  {
   "cell_type": "markdown",
   "id": "9c6b371f",
   "metadata": {},
   "source": [
    "2. Write a Python Program to find largest element in an array?"
   ]
  },
  {
   "cell_type": "code",
   "execution_count": 1,
   "id": "5bd2db7b",
   "metadata": {},
   "outputs": [
    {
     "name": "stdout",
     "output_type": "stream",
     "text": [
      "Howmany elements you want to insert6\n",
      "34\n",
      "56\n",
      "77\n",
      "886\n",
      "435\n",
      "24\n",
      "Largest element is 886\n"
     ]
    }
   ],
   "source": [
    "def test2():\n",
    "    arr = []\n",
    "    n = int(input(\"Howmany elements you want to insert\"))\n",
    "    for i in range(1,n+1):\n",
    "        value = int(input())\n",
    "        arr.append(value)\n",
    "    large = max(arr)\n",
    "    print(\"Largest element is {0}\".format(large))\n",
    "test2()"
   ]
  },
  {
   "cell_type": "markdown",
   "id": "4b4587dc",
   "metadata": {},
   "source": [
    "3. Write a Python Program for array rotation?"
   ]
  },
  {
   "cell_type": "code",
   "execution_count": 16,
   "id": "11463ae8",
   "metadata": {},
   "outputs": [],
   "source": [
    "def test3(arr,element):\n",
    "    temp = []\n",
    "    n = len(arr)\n",
    "    for i in range(element,n):\n",
    "        temp.append(arr[i])\n",
    "    i = 0\n",
    "    for i in range(0,element):\n",
    "        temp.append(arr[i])\n",
    "    arr = temp.copy()\n",
    "    return arr"
   ]
  },
  {
   "cell_type": "code",
   "execution_count": 17,
   "id": "96c0185f",
   "metadata": {},
   "outputs": [],
   "source": [
    "arr = [2,34,4,5,5,532,1,23] #left rotation"
   ]
  },
  {
   "cell_type": "code",
   "execution_count": 18,
   "id": "9f27cb2e",
   "metadata": {},
   "outputs": [
    {
     "data": {
      "text/plain": [
       "[5, 5, 532, 1, 23, 2, 34, 4]"
      ]
     },
     "execution_count": 18,
     "metadata": {},
     "output_type": "execute_result"
    }
   ],
   "source": [
    "test3(arr,3)"
   ]
  },
  {
   "cell_type": "markdown",
   "id": "bc08a865",
   "metadata": {},
   "source": [
    "4. Write a Python Program to Split the array and add the first part to the end?"
   ]
  },
  {
   "cell_type": "code",
   "execution_count": 27,
   "id": "17e8ef60",
   "metadata": {},
   "outputs": [],
   "source": [
    "def test4():\n",
    "    arr = []\n",
    "    n = int(input(\"how many elements you want to insert in array\"))\n",
    "    for i in range(0,n):\n",
    "        j = int(input())\n",
    "        arr.append(j)\n",
    "    print(\"Your array is {0}\".format(arr))\n",
    "    s= int(input(\"define the index where do you want to split\"))\n",
    "    temp = []\n",
    "    for i in range(s,n):\n",
    "        temp.append(arr[i])\n",
    "    i = 0\n",
    "    for i in range(0,s):\n",
    "        temp.append(arr[i])\n",
    "    arr = temp.copy()\n",
    "    return arr"
   ]
  },
  {
   "cell_type": "code",
   "execution_count": 28,
   "id": "b7baa3d2",
   "metadata": {},
   "outputs": [
    {
     "name": "stdout",
     "output_type": "stream",
     "text": [
      "how many elements you want to insert in array10\n",
      "4\n",
      "55\n",
      "4\n",
      "22\n",
      "45\n",
      "78\n",
      "99\n",
      "7\n",
      "66\n",
      "5\n",
      "Your array is [4, 55, 4, 22, 45, 78, 99, 7, 66, 5]\n",
      "define the index where do you want to split3\n"
     ]
    },
    {
     "data": {
      "text/plain": [
       "[22, 45, 78, 99, 7, 66, 5, 4, 55, 4]"
      ]
     },
     "execution_count": 28,
     "metadata": {},
     "output_type": "execute_result"
    }
   ],
   "source": [
    "test4()"
   ]
  },
  {
   "cell_type": "markdown",
   "id": "9f5ebff8",
   "metadata": {},
   "source": [
    "5. Write a Python Program to check if given array is Monotonic?"
   ]
  },
  {
   "cell_type": "code",
   "execution_count": 5,
   "id": "d86d0824",
   "metadata": {},
   "outputs": [],
   "source": [
    "def test5():\n",
    "    A = []\n",
    "    n = int(input(\"how many elements you want to insert in array\"))\n",
    "    for i in range(0,n):\n",
    "        j = int(input())\n",
    "        A.append(j)\n",
    "    if ((all(A[i] <= A[i + 1] for i in range(len(A) - 1)) or all(A[i] >= A[i + 1] for i in range(len(A) - 1)))==True):\n",
    "            print(\"{} is monotonic\".format(A))\n",
    "    else:\n",
    "        print(\"{} is not monotonic\".format(A))"
   ]
  },
  {
   "cell_type": "code",
   "execution_count": 8,
   "id": "81c0d4d7",
   "metadata": {},
   "outputs": [
    {
     "name": "stdout",
     "output_type": "stream",
     "text": [
      "how many elements you want to insert in array7\n",
      "11\n",
      "12\n",
      "14\n",
      "15\n",
      "16\n",
      "17\n",
      "18\n",
      "[11, 12, 14, 15, 16, 17, 18] is monotonic\n"
     ]
    }
   ],
   "source": [
    "test5()"
   ]
  },
  {
   "cell_type": "code",
   "execution_count": null,
   "id": "2364b367",
   "metadata": {},
   "outputs": [],
   "source": []
  }
 ],
 "metadata": {
  "kernelspec": {
   "display_name": "Python 3 (ipykernel)",
   "language": "python",
   "name": "python3"
  },
  "language_info": {
   "codemirror_mode": {
    "name": "ipython",
    "version": 3
   },
   "file_extension": ".py",
   "mimetype": "text/x-python",
   "name": "python",
   "nbconvert_exporter": "python",
   "pygments_lexer": "ipython3",
   "version": "3.9.7"
  }
 },
 "nbformat": 4,
 "nbformat_minor": 5
}
