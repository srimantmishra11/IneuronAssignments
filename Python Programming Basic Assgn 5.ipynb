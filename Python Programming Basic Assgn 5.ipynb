{
 "cells": [
  {
   "cell_type": "markdown",
   "id": "42100ba7",
   "metadata": {},
   "source": [
    "1.Write a Python Program to Find LCM?"
   ]
  },
  {
   "cell_type": "code",
   "execution_count": 4,
   "id": "958f14f7",
   "metadata": {},
   "outputs": [
    {
     "name": "stdout",
     "output_type": "stream",
     "text": [
      "Enter first number54\n",
      "Enter second number24\n"
     ]
    },
    {
     "data": {
      "text/plain": [
       "216"
      ]
     },
     "execution_count": 4,
     "metadata": {},
     "output_type": "execute_result"
    }
   ],
   "source": [
    "def test1():\n",
    "    a = int(input(\"Enter first number\"))\n",
    "    b = int(input(\"Enter second number\"))\n",
    "    if a > b:\n",
    "        greater = a\n",
    "    else:\n",
    "        greater = b\n",
    "    while(True):\n",
    "        if ((greater%a==0) and (greater%b==0)):\n",
    "            lcm=greater\n",
    "            break\n",
    "        greater+=1\n",
    "    return greater\n",
    "    \n",
    "test1()"
   ]
  },
  {
   "cell_type": "markdown",
   "id": "6eab8a02",
   "metadata": {},
   "source": [
    "2.Write a Python Program to Find HCF?"
   ]
  },
  {
   "cell_type": "code",
   "execution_count": 47,
   "id": "70b5081e",
   "metadata": {},
   "outputs": [
    {
     "name": "stdout",
     "output_type": "stream",
     "text": [
      "Enter First number :56\n",
      "Enter Second number :24\n",
      "HCF of 56 and 24 = 8\n"
     ]
    }
   ],
   "source": [
    "def test2():\n",
    "    n1 = int(input(\"Enter First number :\"))\n",
    "    n2 = int(input(\"Enter Second number :\"))\n",
    "    x = n1\n",
    "    y = n2\n",
    "    while(n2!=0):\n",
    "        t = n2\n",
    "        n2 = n1 % n2\n",
    "        n1 = t\n",
    "    hcf = n1\n",
    "    print(\"HCF of {0} and {1} = {2}\".format(x,y,hcf))\n",
    "test2()"
   ]
  },
  {
   "cell_type": "markdown",
   "id": "fdca4d23",
   "metadata": {},
   "source": [
    "3. Write a Python Program to Convert Decimal to Binary, Octal and Hexadecimal?"
   ]
  },
  {
   "cell_type": "code",
   "execution_count": 22,
   "id": "33fe64db",
   "metadata": {},
   "outputs": [
    {
     "name": "stdout",
     "output_type": "stream",
     "text": [
      "Enter 'A' for decimal to binary or 'B' for octal to hexadecimalB\n",
      "Enter a octal value354354353452\n",
      "Hexa decimal value is 0x763b1d72a\n"
     ]
    }
   ],
   "source": [
    "def test3():\n",
    "    ip=input(\"Enter 'A' for decimal to binary or 'B' for octal to hexadecimal\")\n",
    "    if (ip == 'A'):\n",
    "        a = int(input(\"Enter a dec number\"))\n",
    "        return \"Binary number is {0:b}\".format(int(a))\n",
    "    elif(ip == 'B'):\n",
    "        a = input(\"Enter a octal value\")\n",
    "        dec=int(a,8)\n",
    "        hexa = hex(dec)\n",
    "        print(\"Hexa decimal value is\",hexa)\n",
    "    else:\n",
    "        print(\"Enter valid input\")\n",
    "test3()"
   ]
  },
  {
   "cell_type": "markdown",
   "id": "bb58ec97",
   "metadata": {},
   "source": [
    "4. Write a Python Program To Find ASCII value of a character?"
   ]
  },
  {
   "cell_type": "code",
   "execution_count": 36,
   "id": "9a0f51c3",
   "metadata": {},
   "outputs": [
    {
     "name": "stdout",
     "output_type": "stream",
     "text": [
      "Enter a value to find Ascii value k\n",
      "Ascii value is  107\n"
     ]
    }
   ],
   "source": [
    "def test4():\n",
    "    a = input(\"Enter a value to find Ascii value \")\n",
    "    val = ord(a)\n",
    "    print(\"Ascii value is \",val)\n",
    "test4()"
   ]
  },
  {
   "cell_type": "markdown",
   "id": "bb4a4145",
   "metadata": {},
   "source": [
    "5.Write a Python Program to Make a Simple Calculator with 4 basic mathematical operations?"
   ]
  },
  {
   "cell_type": "code",
   "execution_count": 45,
   "id": "f7ab4d94",
   "metadata": {},
   "outputs": [
    {
     "name": "stdout",
     "output_type": "stream",
     "text": [
      "Enter a number3\n",
      "Enter 2nd number4\n",
      "Choose and Enter among + - * /*\n",
      "12\n"
     ]
    }
   ],
   "source": [
    "def test5():\n",
    "    val1=int(input(\"Enter a number\"))\n",
    "    val2 = int(input(\"Enter 2nd number\"))\n",
    "    a= input(\"Choose and Enter among + - * /\")\n",
    "    if a=='+':\n",
    "        res = val1+val2\n",
    "    elif a=='-':\n",
    "        res = val1-val2\n",
    "    elif a == '*':\n",
    "        res = val1*val2\n",
    "    elif a=='/':\n",
    "        res = val1/val2\n",
    "    else:\n",
    "        print(\"Invalid opearand\")\n",
    "    print(res)\n",
    "test5()"
   ]
  },
  {
   "cell_type": "markdown",
   "id": "4b65bb05",
   "metadata": {},
   "source": []
  }
 ],
 "metadata": {
  "kernelspec": {
   "display_name": "Python 3 (ipykernel)",
   "language": "python",
   "name": "python3"
  },
  "language_info": {
   "codemirror_mode": {
    "name": "ipython",
    "version": 3
   },
   "file_extension": ".py",
   "mimetype": "text/x-python",
   "name": "python",
   "nbconvert_exporter": "python",
   "pygments_lexer": "ipython3",
   "version": "3.9.7"
  }
 },
 "nbformat": 4,
 "nbformat_minor": 5
}
