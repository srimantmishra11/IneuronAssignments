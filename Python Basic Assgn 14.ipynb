{
 "cells": [
  {
   "cell_type": "markdown",
   "id": "44a57d2e",
   "metadata": {},
   "source": [
    "Q1. What does RGBA stand for?\n",
    "\n",
    "Ans:\n",
    "RGBA:Red-Green-Blue-Alpha\n",
    "\n",
    "Q2. From the Pillow module, how do you get the RGBA value of any images?\n",
    "\n",
    "Ans:\n",
    "\n",
    "from PIL import ImageColor\n",
    "\n",
    "ImageColor.getcolor(color_name, 'RGBA')\n",
    "\n",
    "Q3. What is a box tuple, and how does it work?\n",
    "\n",
    "Ans:\n",
    "Many Pillow's function take box tuple argument. This means pillow is taking a tuple of four integer coordinates that expecting a rectangular region in image. The four integers are in order left, top, right, bottom."
   ]
  },
  {
   "cell_type": "markdown",
   "id": "a7183ef5",
   "metadata": {},
   "source": [
    "Q4. Use your image and load in notebook then, How can you find out the width and height of an Image object?\n",
    "\n",
    "Ans:"
   ]
  },
  {
   "cell_type": "code",
   "execution_count": 5,
   "id": "b3f384e8",
   "metadata": {
    "scrolled": true
   },
   "outputs": [
    {
     "name": "stdout",
     "output_type": "stream",
     "text": [
      "width= 430\n",
      "height= 117\n"
     ]
    }
   ],
   "source": [
    "from PIL import Image\n",
    "im=Image.open(\"ineuronpng.png\")\n",
    "width, height = im.size\n",
    "print(\"width=\", width)\n",
    "print(\"height=\", height)\n",
    "im.close()"
   ]
  },
  {
   "cell_type": "markdown",
   "id": "f000fad7",
   "metadata": {},
   "source": [
    "Q5. What method would you call to get Image object for a 100×100 image, excluding the lower-left quarter of it?\n",
    "\n",
    "Ans:\n",
    "from PIL import Image\n",
    "Image.new('RGBA', (100,100))\n",
    "\n",
    "Q6. After making changes to an Image object, how could you save it as an image file?\n",
    "\n",
    "Ans:\n",
    "save(filename)\n",
    "\n",
    "Q7. What module contains Pillow’s shape-drawing code?\n",
    "\n",
    "Ans:\n",
    "ImageDraw"
   ]
  },
  {
   "cell_type": "markdown",
   "id": "e5430613",
   "metadata": {},
   "source": [
    "Q8. Image objects do not have drawing methods. What kind of object does? How do you get this kind of object?\n",
    "\n",
    "Ans:\n",
    "\n",
    "wand.drawing.Drawing object has drawing methods.\n",
    "\n",
    "from wand.drawing import Drawing"
   ]
  },
  {
   "cell_type": "code",
   "execution_count": null,
   "id": "e7c60736",
   "metadata": {},
   "outputs": [],
   "source": []
  }
 ],
 "metadata": {
  "kernelspec": {
   "display_name": "Python 3 (ipykernel)",
   "language": "python",
   "name": "python3"
  },
  "language_info": {
   "codemirror_mode": {
    "name": "ipython",
    "version": 3
   },
   "file_extension": ".py",
   "mimetype": "text/x-python",
   "name": "python",
   "nbconvert_exporter": "python",
   "pygments_lexer": "ipython3",
   "version": "3.9.7"
  }
 },
 "nbformat": 4,
 "nbformat_minor": 5
}
