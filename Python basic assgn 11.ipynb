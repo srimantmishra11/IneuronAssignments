{
 "cells": [
  {
   "cell_type": "markdown",
   "id": "5582e0fb",
   "metadata": {},
   "source": [
    "Q1. Create an assert statement that throws an AssertionError if the variable spam is a negative integer.\n",
    "\n",
    "Ans:\n",
    "assert spam > 0, \"Negative not allowed!\""
   ]
  },
  {
   "cell_type": "markdown",
   "id": "1cff617b",
   "metadata": {},
   "source": [
    "Q2. Write an assert statement that triggers an AssertionError if the variables eggs and bacon contain strings that are the same as each other, even if their cases are different (that is, 'hello' and 'hello' are considered the same, and 'goodbye' and 'GOODbye' are also considered the same).\n",
    "\n",
    "\n",
    "Ans:\n",
    "assert eggs.lower() != bacon.lower(), 'The eggs and bacon variables are the same!'\n",
    "assert eggs.upper() != bacon.upper(), 'The eggs and bacon variables are the same!'"
   ]
  },
  {
   "cell_type": "markdown",
   "id": "c410c962",
   "metadata": {},
   "source": [
    "Q3. Create an assert statement that throws an AssertionError every time.\n",
    "\n",
    "Ans:\n",
    "assert False, This assertion always triggers."
   ]
  },
  {
   "cell_type": "markdown",
   "id": "761d9c39",
   "metadata": {},
   "source": [
    "Q4. What are the two lines that must be present in your software in order to call logging.debug()?\n",
    "\n",
    "Ans:\n",
    "import logging\n",
    "logging.basicConfig(level=logging.DEBUG, format=' %(asctime)s - %(levelname)s - %(message)s')"
   ]
  },
  {
   "cell_type": "markdown",
   "id": "2a709820",
   "metadata": {},
   "source": [
    "Q5. What are the two lines that your program must have in order to have logging.debug() send a logging message to a file named programLog.txt?\n",
    "\n",
    "Ans:\n",
    "import logging\n",
    "logging.basicConfig(filename='programLog.txt', level=logging.DEBUG, format=' %(asctime)s - %(levelname)s - %(message)s')"
   ]
  },
  {
   "cell_type": "markdown",
   "id": "c536fcf8",
   "metadata": {},
   "source": [
    "Q6. What are the five levels of logging?\n",
    "\n",
    "Ans:\n",
    "DEBUG\n",
    "INFO\n",
    "WARNING\n",
    "ERROR\n",
    "CRITICAL"
   ]
  },
  {
   "cell_type": "markdown",
   "id": "7cc6e541",
   "metadata": {},
   "source": [
    "Q7. What line of code would you add to your software to disable all logging messages?\n",
    "\n",
    "Ans:\n",
    "logging.disable(level name)"
   ]
  },
  {
   "cell_type": "markdown",
   "id": "e1f737ed",
   "metadata": {},
   "source": [
    "Q8.Why is using logging messages better than using print() to display the same message?\n",
    "\n",
    "\n",
    "Ans:\n",
    "It helps to see where and when a logging call is being made from\n",
    "We can differentiate logging based on severity\n",
    "print does not have any of them"
   ]
  },
  {
   "cell_type": "markdown",
   "id": "13d3b3b8",
   "metadata": {},
   "source": [
    "Q9. What are the differences between the Step Over, Step In, and Step Out buttons in the debugger?\n",
    "\n",
    "\n",
    "Ans:\n",
    "Step Over will just execute the line and go to the next line.\n",
    "Step In will dig into method calls.\n",
    "Step Out Steps out of the current method and takes you to the caller method."
   ]
  },
  {
   "cell_type": "markdown",
   "id": "01f8a4a5",
   "metadata": {},
   "source": [
    "Q10.After you click Continue, when will the debugger stop ?\n",
    "\n",
    "Ans:\n",
    "When it has reached the end of a program or a breakpoint\n",
    "\n",
    "\n",
    "Q11. What is the concept of a breakpoint?\n",
    "\n",
    "\n",
    "Ans:\n",
    "A breakpoint is a setting on a line of code that causes the debugger to pause when the program execution reaches the line"
   ]
  },
  {
   "cell_type": "code",
   "execution_count": null,
   "id": "7aa987d5",
   "metadata": {},
   "outputs": [],
   "source": []
  }
 ],
 "metadata": {
  "kernelspec": {
   "display_name": "Python 3 (ipykernel)",
   "language": "python",
   "name": "python3"
  },
  "language_info": {
   "codemirror_mode": {
    "name": "ipython",
    "version": 3
   },
   "file_extension": ".py",
   "mimetype": "text/x-python",
   "name": "python",
   "nbconvert_exporter": "python",
   "pygments_lexer": "ipython3",
   "version": "3.9.7"
  }
 },
 "nbformat": 4,
 "nbformat_minor": 5
}
