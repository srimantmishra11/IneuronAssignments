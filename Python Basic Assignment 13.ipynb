{
 "cells": [
  {
   "cell_type": "markdown",
   "id": "b81d5329",
   "metadata": {},
   "source": [
    "1ans)i. Excel is highly standardized with respect to data storage and related workings but csv is just a plain text file which is not standardized.\n",
    "\n",
    "ii. Excel can easily save data like charts but csv saves data in a plain text format, it cammot save data like chart.\n",
    "\n",
    "iii. csv files are not preferred to handle complex data but excel can."
   ]
  },
  {
   "cell_type": "markdown",
   "id": "0a10595e",
   "metadata": {},
   "source": [
    "2ans) In csv.reader() and csv.writer() we pass csv file to create a reader and writer object."
   ]
  },
  {
   "cell_type": "markdown",
   "id": "c2361e5f",
   "metadata": {},
   "source": [
    "3ans) ‘r’\tOpen a file for reading. (default)\n",
    "\n",
    "‘w’\tOpen a file for writing. Creates a new file if it does not exist or truncates the file if it exists.\n",
    "\n",
    "\n",
    "‘x’\tOpen a file for exclusive creation. If the file already exists, the operation fails.\n",
    "\n",
    "\n",
    "‘a’\tOpen for appending at the end of the file without truncating it. Creates a new file if it does not exist.\n",
    "\n",
    "\n",
    "‘t’\tOpen in text mode. (default)\n",
    "\n",
    "\n",
    "‘b’\tOpen in binary mode.\n",
    "\n",
    "\n",
    "‘+’\tOpen a file for updating (reading and writing)"
   ]
  },
  {
   "cell_type": "markdown",
   "id": "dd84a228",
   "metadata": {},
   "source": [
    "4ans) csv.writer.writerow() take a list(iterator) as an arguement and writes in csv file"
   ]
  },
  {
   "cell_type": "markdown",
   "id": "b1882c1e",
   "metadata": {},
   "source": [
    "5ans) A lineterminator is a character that comes to at the end of a row and by default line terminator is a newline. You can change values by using delinator and line terminator keyword arguements with csv.writer() "
   ]
  },
  {
   "cell_type": "markdown",
   "id": "34fd91b9",
   "metadata": {},
   "source": [
    "6ans) json.loads() method"
   ]
  },
  {
   "cell_type": "markdown",
   "id": "da719727",
   "metadata": {},
   "source": [
    "7ans) json.dumps() method"
   ]
  },
  {
   "cell_type": "code",
   "execution_count": null,
   "id": "ffbb3dae",
   "metadata": {},
   "outputs": [],
   "source": []
  }
 ],
 "metadata": {
  "kernelspec": {
   "display_name": "Python 3 (ipykernel)",
   "language": "python",
   "name": "python3"
  },
  "language_info": {
   "codemirror_mode": {
    "name": "ipython",
    "version": 3
   },
   "file_extension": ".py",
   "mimetype": "text/x-python",
   "name": "python",
   "nbconvert_exporter": "python",
   "pygments_lexer": "ipython3",
   "version": "3.9.7"
  }
 },
 "nbformat": 4,
 "nbformat_minor": 5
}
