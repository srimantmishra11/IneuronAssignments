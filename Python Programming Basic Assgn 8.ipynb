{
 "cells": [
  {
   "cell_type": "markdown",
   "id": "8d340a6e",
   "metadata": {},
   "source": [
    "Write a Python Program to Add Two Matrices?"
   ]
  },
  {
   "cell_type": "code",
   "execution_count": 3,
   "id": "70828742",
   "metadata": {},
   "outputs": [
    {
     "name": "stdout",
     "output_type": "stream",
     "text": [
      "[11, 13, 15]\n",
      "[17, 19, 21]\n",
      "[23, 25, 27]\n"
     ]
    }
   ],
   "source": [
    "X = [[1,2,3],  \n",
    "       [4,5,6],  \n",
    "       [7,8,9]]  \n",
    "  \n",
    "Y = [[10,11,12],  \n",
    "       [13,14,15],  \n",
    "       [16,17,18]]  \n",
    "  \n",
    "result = [[0,0,0],  \n",
    "                [0,0,0],  \n",
    "                [0,0,0]]  \n",
    "for i in range(len(X)):   \n",
    "    for j in range(len(X[0])):  \n",
    "        result[i][j] = X[i][j] + Y[i][j]  \n",
    "for r in result:  \n",
    "    print(r)  "
   ]
  },
  {
   "cell_type": "markdown",
   "id": "f26884a0",
   "metadata": {},
   "source": [
    "Write a Python Program to Multiply Two Matrices?"
   ]
  },
  {
   "cell_type": "code",
   "execution_count": 4,
   "id": "f2ee1478",
   "metadata": {},
   "outputs": [
    {
     "name": "stdout",
     "output_type": "stream",
     "text": [
      "The multiplication result of matrix A and B is: \n",
      "[37, 43, 59]\n",
      "[34, 58, 62]\n",
      "[58, 92, 103]\n"
     ]
    }
   ],
   "source": [
    "A = [[5, 4, 3],  \n",
    "     [2, 4, 6],  \n",
    "     [4, 7, 9]]    \n",
    "B = [[3, 2, 4],  \n",
    "     [4, 3, 6],  \n",
    "     [2, 7, 5]]   \n",
    "# Define an empty matrix to store multiplication result  \n",
    "multiResult = [[0, 0, 0],    \n",
    "               [0, 0, 0],    \n",
    "               [0, 0, 0]]  \n",
    "# Using nested for loop method on A & B matrix  \n",
    "for m in range(len(A)):    \n",
    "    for n in range(len(B[0])):    \n",
    "          for o in range(len(B)):    \n",
    "                multiResult[m][n] += A[m][o] * B[o][n] # Storing multiplication result in empty matrix  \n",
    "# Printing multiplication result in the output  \n",
    "print(\"The multiplication result of matrix A and B is: \")  \n",
    "for res in multiResult:    \n",
    "    print(res)  "
   ]
  },
  {
   "cell_type": "markdown",
   "id": "57c93891",
   "metadata": {},
   "source": [
    "Write a Python Program to Transpose a Matrix?"
   ]
  },
  {
   "cell_type": "code",
   "execution_count": 5,
   "id": "e6936cf0",
   "metadata": {},
   "outputs": [
    {
     "name": "stdout",
     "output_type": "stream",
     "text": [
      "The transpose of matrix A is: \n",
      "[5, 2, 4, 8]\n",
      "[4, 4, 7, 1]\n",
      "[3, 6, 9, 3]\n"
     ]
    }
   ],
   "source": [
    "A = [[5, 4, 3],  \n",
    "         [2, 4, 6],  \n",
    "         [4, 7, 9],  \n",
    "         [8, 1, 3]]  \n",
    "# Define an empty matrix of reverse order  \n",
    "transResult = [[0, 0, 0, 0],    \n",
    "                             [0, 0, 0, 0],  \n",
    "                             [0, 0, 0, 0]]  \n",
    "# Use nested for loop on matrix A  \n",
    "for a in range(len(A)):    \n",
    "    for b in range(len(A[0])):    \n",
    "          transResult[b][a] = A[a][b] # store transpose result on empty matrix          \n",
    "# Printing result in the output  \n",
    "print(\"The transpose of matrix A is: \")  \n",
    "for res in transResult:    \n",
    "    print(res)"
   ]
  },
  {
   "cell_type": "markdown",
   "id": "9200db8e",
   "metadata": {},
   "source": [
    "Write a Python Program to Sort Words in Alphabetic Order?"
   ]
  },
  {
   "cell_type": "code",
   "execution_count": 17,
   "id": "b6b37950",
   "metadata": {},
   "outputs": [
    {
     "name": "stdout",
     "output_type": "stream",
     "text": [
      "Enter a string: I love My India\n",
      "I\n",
      "India\n",
      "My\n",
      "love\n"
     ]
    }
   ],
   "source": [
    "my_str = input(\"Enter a string: \")   \n",
    "words = my_str.split()   \n",
    "words.sort()  \n",
    "for word in words:  \n",
    "    print(word)  "
   ]
  },
  {
   "cell_type": "markdown",
   "id": "734e678e",
   "metadata": {},
   "source": [
    "Write a Python Program to Remove Punctuation From a String?"
   ]
  },
  {
   "cell_type": "code",
   "execution_count": 19,
   "id": "92a1c995",
   "metadata": {},
   "outputs": [
    {
     "name": "stdout",
     "output_type": "stream",
     "text": [
      "Enter a string: Helloo....(@#a%$&)\n",
      "Hellooa\n"
     ]
    }
   ],
   "source": [
    "punctuation = '''''!()-[]{};:'\"\\,<>./?@#$%^&*_~'''  \n",
    "my_str = input(\"Enter a string: \")   \n",
    "no_punct = \"\"  \n",
    "for char in my_str:  \n",
    "    if char not in punctuation:  \n",
    "        no_punct = no_punct + char   \n",
    "print(no_punct)  "
   ]
  },
  {
   "cell_type": "code",
   "execution_count": null,
   "id": "2f0bd060",
   "metadata": {},
   "outputs": [],
   "source": []
  }
 ],
 "metadata": {
  "kernelspec": {
   "display_name": "Python 3 (ipykernel)",
   "language": "python",
   "name": "python3"
  },
  "language_info": {
   "codemirror_mode": {
    "name": "ipython",
    "version": 3
   },
   "file_extension": ".py",
   "mimetype": "text/x-python",
   "name": "python",
   "nbconvert_exporter": "python",
   "pygments_lexer": "ipython3",
   "version": "3.9.7"
  }
 },
 "nbformat": 4,
 "nbformat_minor": 5
}
